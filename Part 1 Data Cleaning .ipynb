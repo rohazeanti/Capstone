{
 "cells": [
  {
   "cell_type": "markdown",
   "metadata": {},
   "source": [
    "### General Assembly Data Science Immersive Capstone Project\n",
    "># Fake News Detection\n",
    ">#### by Rohazeanti"
   ]
  },
  {
   "cell_type": "markdown",
   "metadata": {},
   "source": [
    "# Problem Statement\n",
    "Many fake news and data are disseminated online, particularly on social feeds and conversation groups. Fake news is information, stories or hoaxes made to misinform or mislead audiences. These types of narratives are made to influence people’s views, push the political agenda, create embarrassment, and get gains out of online publishers. The proliferation of news on social media and the Internet is deceiving people to an extent which needs to be stopped. \n",
    "\n",
    "**<br>This project aims to deploy a highly accurate model that classifies a given news article as either fake or true, allowing consumers to check for news reliability through their browsers efficiently.**\n"
   ]
  },
  {
   "cell_type": "markdown",
   "metadata": {},
   "source": [
    "## Contents\n",
    "- [Import Libraries](#Import-Libraries)\n",
    "- [Read Data](#Read-Data)\n",
    "- [Inspect Data](#Inspect-Data)\n",
    "- [Data Cleaning](#Data-Cleaning)"
   ]
  },
  {
   "cell_type": "markdown",
   "metadata": {},
   "source": [
    "### Import Libraries"
   ]
  },
  {
   "cell_type": "code",
   "execution_count": 1,
   "metadata": {},
   "outputs": [],
   "source": [
    "import pandas as pd\n",
    "import numpy as np\n",
    "\n",
    "import seaborn as sns\n",
    "import matplotlib.pyplot as plt\n",
    "\n",
    "# Libraries and packages for text (pre-)processing \n",
    "import string\n",
    "import re\n",
    "import nltk\n",
    "from nltk.stem import WordNetLemmatizer\n",
    "from nltk.corpus import stopwords\n",
    "\n",
    "import pickle\n",
    "\n",
    "pd.options.display.max_columns = None\n",
    "\n",
    "import warnings\n",
    "warnings.simplefilter(action='ignore', category=FutureWarning)"
   ]
  },
  {
   "cell_type": "markdown",
   "metadata": {},
   "source": [
    "### Read Data"
   ]
  },
  {
   "cell_type": "code",
   "execution_count": 2,
   "metadata": {},
   "outputs": [],
   "source": [
    "true_df = pd.read_csv(\"News _dataset/True.csv\")\n",
    "fake_df = pd.read_csv(\"News _dataset/Fake.csv\")"
   ]
  },
  {
   "cell_type": "markdown",
   "metadata": {},
   "source": [
    "### Inspect Data"
   ]
  },
  {
   "cell_type": "code",
   "execution_count": 3,
   "metadata": {},
   "outputs": [],
   "source": [
    "#store dataframes in list\n",
    "dfs = [\n",
    "    (true_df, 'true_df'),\n",
    "    (fake_df, 'fake_df')\n",
    "    ]"
   ]
  },
  {
   "cell_type": "code",
   "execution_count": 4,
   "metadata": {},
   "outputs": [],
   "source": [
    "def inspect_data(df, df_name):\n",
    "    print(\"-----\",df_name.upper(), \"-----\\n\")\n",
    "    print(f\"Rows: {df.shape[0]} \\t Columns: {df.shape[1]}\\n\")\n",
    "    \n",
    "    print(f\"Total null rows: {df.isnull().sum().sum()}\")\n",
    "    print(f\"Percentage of null rows: {round(df.isnull().sum().sum() / df.shape[0] * 100, 2)}% \\n\")\n",
    "    \n",
    "    print(f\"Total duplicate rows: {df[df.duplicated(keep=False)].shape[0]}\")\n",
    "    print(f\"Percentage of duplicated rows: {round(df[df.duplicated(keep=False)].shape[0] / df.shape[0] * 100, 2)}% \\n\")\n",
    "    \n",
    "    print(df.info())\n",
    "    print(\"\\n\")\n",
    "    \n",
    "def check_null(df):\n",
    "    df.isnull().sum()\n",
    "    \n",
    "# Create 4 new columns: Year, Month, Day, Week from the Date column\n",
    "def create_yr_day_mth(df): \n",
    "    df['year'] = [dd.year for dd in pd.DatetimeIndex(df.date.values)]\n",
    "    df['month'] = [dd.month for dd in pd.DatetimeIndex(df.date.values)]\n",
    "    df['day'] = [dd.day for dd in pd.DatetimeIndex(df.date.values)]\n",
    "    df['week'] = [dd.week for dd in pd.DatetimeIndex(df.date.values)]\n",
    "    return df.head()\n",
    "\n",
    "# Convert the Date into datetime format\n",
    "def convert_date(df): \n",
    "    df['date'] = pd.to_datetime(df['date'])\n",
    "    df.sort_values(by='date',ascending=True,inplace=True)\n",
    "    df.reset_index(drop=True,inplace=True)\n",
    "    return df.date.dtypes\n",
    "\n",
    "#find min and max date\n",
    "def min_max_date(df, df_name):\n",
    "    print(\"-----\",df_name.upper(), \"-----\\n\")\n",
    "    print(\"Earliest record: \", df.Date.min(),\n",
    "      \"\\nLatest Record: \", df.Date.max(), \"\\n\")\n",
    "    print(df['Year'].unique(),\"\\n\")\n",
    "    \n",
    "#trim white spaces\n",
    "def white_space_remover(df):\n",
    "    for i in df.columns:\n",
    "        if df[i].dtype == 'object':\n",
    "             \n",
    "        # applying strip function on column\n",
    "            df[i] = df[i].map(str.strip)\n",
    "        else:\n",
    "             \n",
    "        # if condn. is False then it will do nothing.\n",
    "            pass\n",
    "    "
   ]
  },
  {
   "cell_type": "code",
   "execution_count": 5,
   "metadata": {},
   "outputs": [
    {
     "data": {
      "text/html": [
       "<div>\n",
       "<style scoped>\n",
       "    .dataframe tbody tr th:only-of-type {\n",
       "        vertical-align: middle;\n",
       "    }\n",
       "\n",
       "    .dataframe tbody tr th {\n",
       "        vertical-align: top;\n",
       "    }\n",
       "\n",
       "    .dataframe thead th {\n",
       "        text-align: right;\n",
       "    }\n",
       "</style>\n",
       "<table border=\"1\" class=\"dataframe\">\n",
       "  <thead>\n",
       "    <tr style=\"text-align: right;\">\n",
       "      <th></th>\n",
       "      <th>title</th>\n",
       "      <th>text</th>\n",
       "      <th>subject</th>\n",
       "      <th>date</th>\n",
       "    </tr>\n",
       "  </thead>\n",
       "  <tbody>\n",
       "    <tr>\n",
       "      <th>0</th>\n",
       "      <td>As U.S. budget fight looms, Republicans flip t...</td>\n",
       "      <td>WASHINGTON (Reuters) - The head of a conservat...</td>\n",
       "      <td>politicsNews</td>\n",
       "      <td>December 31, 2017</td>\n",
       "    </tr>\n",
       "    <tr>\n",
       "      <th>1</th>\n",
       "      <td>U.S. military to accept transgender recruits o...</td>\n",
       "      <td>WASHINGTON (Reuters) - Transgender people will...</td>\n",
       "      <td>politicsNews</td>\n",
       "      <td>December 29, 2017</td>\n",
       "    </tr>\n",
       "    <tr>\n",
       "      <th>2</th>\n",
       "      <td>Senior U.S. Republican senator: 'Let Mr. Muell...</td>\n",
       "      <td>WASHINGTON (Reuters) - The special counsel inv...</td>\n",
       "      <td>politicsNews</td>\n",
       "      <td>December 31, 2017</td>\n",
       "    </tr>\n",
       "    <tr>\n",
       "      <th>3</th>\n",
       "      <td>FBI Russia probe helped by Australian diplomat...</td>\n",
       "      <td>WASHINGTON (Reuters) - Trump campaign adviser ...</td>\n",
       "      <td>politicsNews</td>\n",
       "      <td>December 30, 2017</td>\n",
       "    </tr>\n",
       "    <tr>\n",
       "      <th>4</th>\n",
       "      <td>Trump wants Postal Service to charge 'much mor...</td>\n",
       "      <td>SEATTLE/WASHINGTON (Reuters) - President Donal...</td>\n",
       "      <td>politicsNews</td>\n",
       "      <td>December 29, 2017</td>\n",
       "    </tr>\n",
       "    <tr>\n",
       "      <th>5</th>\n",
       "      <td>White House, Congress prepare for talks on spe...</td>\n",
       "      <td>WEST PALM BEACH, Fla./WASHINGTON (Reuters) - T...</td>\n",
       "      <td>politicsNews</td>\n",
       "      <td>December 29, 2017</td>\n",
       "    </tr>\n",
       "    <tr>\n",
       "      <th>6</th>\n",
       "      <td>Trump says Russia probe will be fair, but time...</td>\n",
       "      <td>WEST PALM BEACH, Fla (Reuters) - President Don...</td>\n",
       "      <td>politicsNews</td>\n",
       "      <td>December 29, 2017</td>\n",
       "    </tr>\n",
       "    <tr>\n",
       "      <th>7</th>\n",
       "      <td>Factbox: Trump on Twitter (Dec 29) - Approval ...</td>\n",
       "      <td>The following statements were posted to the ve...</td>\n",
       "      <td>politicsNews</td>\n",
       "      <td>December 29, 2017</td>\n",
       "    </tr>\n",
       "    <tr>\n",
       "      <th>8</th>\n",
       "      <td>Trump on Twitter (Dec 28) - Global Warming</td>\n",
       "      <td>The following statements were posted to the ve...</td>\n",
       "      <td>politicsNews</td>\n",
       "      <td>December 29, 2017</td>\n",
       "    </tr>\n",
       "    <tr>\n",
       "      <th>9</th>\n",
       "      <td>Alabama official to certify Senator-elect Jone...</td>\n",
       "      <td>WASHINGTON (Reuters) - Alabama Secretary of St...</td>\n",
       "      <td>politicsNews</td>\n",
       "      <td>December 28, 2017</td>\n",
       "    </tr>\n",
       "  </tbody>\n",
       "</table>\n",
       "</div>"
      ],
      "text/plain": [
       "                                               title  \\\n",
       "0  As U.S. budget fight looms, Republicans flip t...   \n",
       "1  U.S. military to accept transgender recruits o...   \n",
       "2  Senior U.S. Republican senator: 'Let Mr. Muell...   \n",
       "3  FBI Russia probe helped by Australian diplomat...   \n",
       "4  Trump wants Postal Service to charge 'much mor...   \n",
       "5  White House, Congress prepare for talks on spe...   \n",
       "6  Trump says Russia probe will be fair, but time...   \n",
       "7  Factbox: Trump on Twitter (Dec 29) - Approval ...   \n",
       "8         Trump on Twitter (Dec 28) - Global Warming   \n",
       "9  Alabama official to certify Senator-elect Jone...   \n",
       "\n",
       "                                                text       subject  \\\n",
       "0  WASHINGTON (Reuters) - The head of a conservat...  politicsNews   \n",
       "1  WASHINGTON (Reuters) - Transgender people will...  politicsNews   \n",
       "2  WASHINGTON (Reuters) - The special counsel inv...  politicsNews   \n",
       "3  WASHINGTON (Reuters) - Trump campaign adviser ...  politicsNews   \n",
       "4  SEATTLE/WASHINGTON (Reuters) - President Donal...  politicsNews   \n",
       "5  WEST PALM BEACH, Fla./WASHINGTON (Reuters) - T...  politicsNews   \n",
       "6  WEST PALM BEACH, Fla (Reuters) - President Don...  politicsNews   \n",
       "7  The following statements were posted to the ve...  politicsNews   \n",
       "8  The following statements were posted to the ve...  politicsNews   \n",
       "9  WASHINGTON (Reuters) - Alabama Secretary of St...  politicsNews   \n",
       "\n",
       "                 date  \n",
       "0  December 31, 2017   \n",
       "1  December 29, 2017   \n",
       "2  December 31, 2017   \n",
       "3  December 30, 2017   \n",
       "4  December 29, 2017   \n",
       "5  December 29, 2017   \n",
       "6  December 29, 2017   \n",
       "7  December 29, 2017   \n",
       "8  December 29, 2017   \n",
       "9  December 28, 2017   "
      ]
     },
     "execution_count": 5,
     "metadata": {},
     "output_type": "execute_result"
    }
   ],
   "source": [
    "true_df.head(10)"
   ]
  },
  {
   "cell_type": "code",
   "execution_count": 6,
   "metadata": {},
   "outputs": [
    {
     "data": {
      "text/html": [
       "<div>\n",
       "<style scoped>\n",
       "    .dataframe tbody tr th:only-of-type {\n",
       "        vertical-align: middle;\n",
       "    }\n",
       "\n",
       "    .dataframe tbody tr th {\n",
       "        vertical-align: top;\n",
       "    }\n",
       "\n",
       "    .dataframe thead th {\n",
       "        text-align: right;\n",
       "    }\n",
       "</style>\n",
       "<table border=\"1\" class=\"dataframe\">\n",
       "  <thead>\n",
       "    <tr style=\"text-align: right;\">\n",
       "      <th></th>\n",
       "      <th>title</th>\n",
       "      <th>text</th>\n",
       "      <th>subject</th>\n",
       "      <th>date</th>\n",
       "    </tr>\n",
       "  </thead>\n",
       "  <tbody>\n",
       "    <tr>\n",
       "      <th>0</th>\n",
       "      <td>Donald Trump Sends Out Embarrassing New Year’...</td>\n",
       "      <td>Donald Trump just couldn t wish all Americans ...</td>\n",
       "      <td>News</td>\n",
       "      <td>December 31, 2017</td>\n",
       "    </tr>\n",
       "    <tr>\n",
       "      <th>1</th>\n",
       "      <td>Drunk Bragging Trump Staffer Started Russian ...</td>\n",
       "      <td>House Intelligence Committee Chairman Devin Nu...</td>\n",
       "      <td>News</td>\n",
       "      <td>December 31, 2017</td>\n",
       "    </tr>\n",
       "    <tr>\n",
       "      <th>2</th>\n",
       "      <td>Sheriff David Clarke Becomes An Internet Joke...</td>\n",
       "      <td>On Friday, it was revealed that former Milwauk...</td>\n",
       "      <td>News</td>\n",
       "      <td>December 30, 2017</td>\n",
       "    </tr>\n",
       "    <tr>\n",
       "      <th>3</th>\n",
       "      <td>Trump Is So Obsessed He Even Has Obama’s Name...</td>\n",
       "      <td>On Christmas day, Donald Trump announced that ...</td>\n",
       "      <td>News</td>\n",
       "      <td>December 29, 2017</td>\n",
       "    </tr>\n",
       "    <tr>\n",
       "      <th>4</th>\n",
       "      <td>Pope Francis Just Called Out Donald Trump Dur...</td>\n",
       "      <td>Pope Francis used his annual Christmas Day mes...</td>\n",
       "      <td>News</td>\n",
       "      <td>December 25, 2017</td>\n",
       "    </tr>\n",
       "    <tr>\n",
       "      <th>5</th>\n",
       "      <td>Racist Alabama Cops Brutalize Black Boy While...</td>\n",
       "      <td>The number of cases of cops brutalizing and ki...</td>\n",
       "      <td>News</td>\n",
       "      <td>December 25, 2017</td>\n",
       "    </tr>\n",
       "    <tr>\n",
       "      <th>6</th>\n",
       "      <td>Fresh Off The Golf Course, Trump Lashes Out A...</td>\n",
       "      <td>Donald Trump spent a good portion of his day a...</td>\n",
       "      <td>News</td>\n",
       "      <td>December 23, 2017</td>\n",
       "    </tr>\n",
       "    <tr>\n",
       "      <th>7</th>\n",
       "      <td>Trump Said Some INSANELY Racist Stuff Inside ...</td>\n",
       "      <td>In the wake of yet another court decision that...</td>\n",
       "      <td>News</td>\n",
       "      <td>December 23, 2017</td>\n",
       "    </tr>\n",
       "    <tr>\n",
       "      <th>8</th>\n",
       "      <td>Former CIA Director Slams Trump Over UN Bully...</td>\n",
       "      <td>Many people have raised the alarm regarding th...</td>\n",
       "      <td>News</td>\n",
       "      <td>December 22, 2017</td>\n",
       "    </tr>\n",
       "    <tr>\n",
       "      <th>9</th>\n",
       "      <td>WATCH: Brand-New Pro-Trump Ad Features So Muc...</td>\n",
       "      <td>Just when you might have thought we d get a br...</td>\n",
       "      <td>News</td>\n",
       "      <td>December 21, 2017</td>\n",
       "    </tr>\n",
       "  </tbody>\n",
       "</table>\n",
       "</div>"
      ],
      "text/plain": [
       "                                               title  \\\n",
       "0   Donald Trump Sends Out Embarrassing New Year’...   \n",
       "1   Drunk Bragging Trump Staffer Started Russian ...   \n",
       "2   Sheriff David Clarke Becomes An Internet Joke...   \n",
       "3   Trump Is So Obsessed He Even Has Obama’s Name...   \n",
       "4   Pope Francis Just Called Out Donald Trump Dur...   \n",
       "5   Racist Alabama Cops Brutalize Black Boy While...   \n",
       "6   Fresh Off The Golf Course, Trump Lashes Out A...   \n",
       "7   Trump Said Some INSANELY Racist Stuff Inside ...   \n",
       "8   Former CIA Director Slams Trump Over UN Bully...   \n",
       "9   WATCH: Brand-New Pro-Trump Ad Features So Muc...   \n",
       "\n",
       "                                                text subject  \\\n",
       "0  Donald Trump just couldn t wish all Americans ...    News   \n",
       "1  House Intelligence Committee Chairman Devin Nu...    News   \n",
       "2  On Friday, it was revealed that former Milwauk...    News   \n",
       "3  On Christmas day, Donald Trump announced that ...    News   \n",
       "4  Pope Francis used his annual Christmas Day mes...    News   \n",
       "5  The number of cases of cops brutalizing and ki...    News   \n",
       "6  Donald Trump spent a good portion of his day a...    News   \n",
       "7  In the wake of yet another court decision that...    News   \n",
       "8  Many people have raised the alarm regarding th...    News   \n",
       "9  Just when you might have thought we d get a br...    News   \n",
       "\n",
       "                date  \n",
       "0  December 31, 2017  \n",
       "1  December 31, 2017  \n",
       "2  December 30, 2017  \n",
       "3  December 29, 2017  \n",
       "4  December 25, 2017  \n",
       "5  December 25, 2017  \n",
       "6  December 23, 2017  \n",
       "7  December 23, 2017  \n",
       "8  December 22, 2017  \n",
       "9  December 21, 2017  "
      ]
     },
     "execution_count": 6,
     "metadata": {},
     "output_type": "execute_result"
    }
   ],
   "source": [
    "fake_df.head(10)"
   ]
  },
  {
   "cell_type": "code",
   "execution_count": 7,
   "metadata": {},
   "outputs": [
    {
     "name": "stdout",
     "output_type": "stream",
     "text": [
      "----- TRUE_DF -----\n",
      "\n",
      "Rows: 21417 \t Columns: 4\n",
      "\n",
      "Total null rows: 0\n",
      "Percentage of null rows: 0.0% \n",
      "\n",
      "Total duplicate rows: 399\n",
      "Percentage of duplicated rows: 1.86% \n",
      "\n",
      "<class 'pandas.core.frame.DataFrame'>\n",
      "RangeIndex: 21417 entries, 0 to 21416\n",
      "Data columns (total 4 columns):\n",
      " #   Column   Non-Null Count  Dtype \n",
      "---  ------   --------------  ----- \n",
      " 0   title    21417 non-null  object\n",
      " 1   text     21417 non-null  object\n",
      " 2   subject  21417 non-null  object\n",
      " 3   date     21417 non-null  object\n",
      "dtypes: object(4)\n",
      "memory usage: 669.4+ KB\n",
      "None\n",
      "\n",
      "\n",
      "----- FAKE_DF -----\n",
      "\n",
      "Rows: 23481 \t Columns: 4\n",
      "\n",
      "Total null rows: 0\n",
      "Percentage of null rows: 0.0% \n",
      "\n",
      "Total duplicate rows: 6\n",
      "Percentage of duplicated rows: 0.03% \n",
      "\n",
      "<class 'pandas.core.frame.DataFrame'>\n",
      "RangeIndex: 23481 entries, 0 to 23480\n",
      "Data columns (total 4 columns):\n",
      " #   Column   Non-Null Count  Dtype \n",
      "---  ------   --------------  ----- \n",
      " 0   title    23481 non-null  object\n",
      " 1   text     23481 non-null  object\n",
      " 2   subject  23481 non-null  object\n",
      " 3   date     23481 non-null  object\n",
      "dtypes: object(4)\n",
      "memory usage: 733.9+ KB\n",
      "None\n",
      "\n",
      "\n"
     ]
    },
    {
     "data": {
      "text/plain": [
       "[None, None]"
      ]
     },
     "execution_count": 7,
     "metadata": {},
     "output_type": "execute_result"
    }
   ],
   "source": [
    "[inspect_data(df, name) for df, name in dfs]"
   ]
  },
  {
   "cell_type": "markdown",
   "metadata": {},
   "source": [
    "**true_df**\n",
    "- There are 21417 rows and 4 columns\n",
    "- There are no null values but I will confirm further by removing blank spaces(if any)\n",
    "- There are 399 duplicate rows. I will check each duplicate rows and drop them\n",
    "- All the columns except `date` have correct data type. \n",
    "\n",
    "**fake_df**\n",
    "- There are 23481 rows and 4 columns\n",
    "- There are no null values but I will confirm further by removing blank spaces(if any)\n",
    "- There are 6 duplicate rows which I will check and drop\n",
    "- Just like true_df, only `date` is not in correct data type\n",
    "\n",
    "*Moving forward...*\n",
    "\n",
    "- I will be taking create a class feature named 'target' for each dataset assign **1** to fake_df and **0** to true_df. Thereafter I will append the two datasets and continue with data cleaning. \n",
    "\n"
   ]
  },
  {
   "cell_type": "markdown",
   "metadata": {},
   "source": [
    "**Create target column for each dataset**"
   ]
  },
  {
   "cell_type": "code",
   "execution_count": 8,
   "metadata": {},
   "outputs": [
    {
     "data": {
      "text/plain": [
       "0    21417\n",
       "Name: target, dtype: int64"
      ]
     },
     "execution_count": 8,
     "metadata": {},
     "output_type": "execute_result"
    }
   ],
   "source": [
    "#new target column for true_df and assign value 0\n",
    "true_df['target'] = 0\n",
    "\n",
    "#check counts, should return 21417\n",
    "true_df['target'].value_counts()"
   ]
  },
  {
   "cell_type": "code",
   "execution_count": 9,
   "metadata": {},
   "outputs": [
    {
     "data": {
      "text/plain": [
       "1    23481\n",
       "Name: target, dtype: int64"
      ]
     },
     "execution_count": 9,
     "metadata": {},
     "output_type": "execute_result"
    }
   ],
   "source": [
    "#new target column for fake_df and assign value 1\n",
    "fake_df['target'] = 1\n",
    "\n",
    "#check counts, should return 23481\n",
    "fake_df['target'].value_counts()"
   ]
  },
  {
   "cell_type": "markdown",
   "metadata": {},
   "source": [
    "**Merge true_df and fake_df**"
   ]
  },
  {
   "cell_type": "code",
   "execution_count": 10,
   "metadata": {},
   "outputs": [],
   "source": [
    "# Combining both exercise and diet datasets into a single combined dataset, named df\n",
    "df = true_df[[\"title\", \"text\", \"subject\", \"date\", \"target\"]].append(fake_df[[\"title\", \"text\", \"subject\", \"date\", \"target\"]])"
   ]
  },
  {
   "cell_type": "code",
   "execution_count": 11,
   "metadata": {},
   "outputs": [],
   "source": [
    "# Resetting index\n",
    "df = df.reset_index(drop=True)"
   ]
  },
  {
   "cell_type": "code",
   "execution_count": 12,
   "metadata": {},
   "outputs": [
    {
     "data": {
      "text/html": [
       "<div>\n",
       "<style scoped>\n",
       "    .dataframe tbody tr th:only-of-type {\n",
       "        vertical-align: middle;\n",
       "    }\n",
       "\n",
       "    .dataframe tbody tr th {\n",
       "        vertical-align: top;\n",
       "    }\n",
       "\n",
       "    .dataframe thead th {\n",
       "        text-align: right;\n",
       "    }\n",
       "</style>\n",
       "<table border=\"1\" class=\"dataframe\">\n",
       "  <thead>\n",
       "    <tr style=\"text-align: right;\">\n",
       "      <th></th>\n",
       "      <th>title</th>\n",
       "      <th>text</th>\n",
       "      <th>subject</th>\n",
       "      <th>date</th>\n",
       "      <th>target</th>\n",
       "    </tr>\n",
       "  </thead>\n",
       "  <tbody>\n",
       "    <tr>\n",
       "      <th>0</th>\n",
       "      <td>As U.S. budget fight looms, Republicans flip t...</td>\n",
       "      <td>WASHINGTON (Reuters) - The head of a conservat...</td>\n",
       "      <td>politicsNews</td>\n",
       "      <td>December 31, 2017</td>\n",
       "      <td>0</td>\n",
       "    </tr>\n",
       "    <tr>\n",
       "      <th>1</th>\n",
       "      <td>U.S. military to accept transgender recruits o...</td>\n",
       "      <td>WASHINGTON (Reuters) - Transgender people will...</td>\n",
       "      <td>politicsNews</td>\n",
       "      <td>December 29, 2017</td>\n",
       "      <td>0</td>\n",
       "    </tr>\n",
       "    <tr>\n",
       "      <th>2</th>\n",
       "      <td>Senior U.S. Republican senator: 'Let Mr. Muell...</td>\n",
       "      <td>WASHINGTON (Reuters) - The special counsel inv...</td>\n",
       "      <td>politicsNews</td>\n",
       "      <td>December 31, 2017</td>\n",
       "      <td>0</td>\n",
       "    </tr>\n",
       "    <tr>\n",
       "      <th>3</th>\n",
       "      <td>FBI Russia probe helped by Australian diplomat...</td>\n",
       "      <td>WASHINGTON (Reuters) - Trump campaign adviser ...</td>\n",
       "      <td>politicsNews</td>\n",
       "      <td>December 30, 2017</td>\n",
       "      <td>0</td>\n",
       "    </tr>\n",
       "    <tr>\n",
       "      <th>4</th>\n",
       "      <td>Trump wants Postal Service to charge 'much mor...</td>\n",
       "      <td>SEATTLE/WASHINGTON (Reuters) - President Donal...</td>\n",
       "      <td>politicsNews</td>\n",
       "      <td>December 29, 2017</td>\n",
       "      <td>0</td>\n",
       "    </tr>\n",
       "  </tbody>\n",
       "</table>\n",
       "</div>"
      ],
      "text/plain": [
       "                                               title  \\\n",
       "0  As U.S. budget fight looms, Republicans flip t...   \n",
       "1  U.S. military to accept transgender recruits o...   \n",
       "2  Senior U.S. Republican senator: 'Let Mr. Muell...   \n",
       "3  FBI Russia probe helped by Australian diplomat...   \n",
       "4  Trump wants Postal Service to charge 'much mor...   \n",
       "\n",
       "                                                text       subject  \\\n",
       "0  WASHINGTON (Reuters) - The head of a conservat...  politicsNews   \n",
       "1  WASHINGTON (Reuters) - Transgender people will...  politicsNews   \n",
       "2  WASHINGTON (Reuters) - The special counsel inv...  politicsNews   \n",
       "3  WASHINGTON (Reuters) - Trump campaign adviser ...  politicsNews   \n",
       "4  SEATTLE/WASHINGTON (Reuters) - President Donal...  politicsNews   \n",
       "\n",
       "                 date  target  \n",
       "0  December 31, 2017        0  \n",
       "1  December 29, 2017        0  \n",
       "2  December 31, 2017        0  \n",
       "3  December 30, 2017        0  \n",
       "4  December 29, 2017        0  "
      ]
     },
     "execution_count": 12,
     "metadata": {},
     "output_type": "execute_result"
    }
   ],
   "source": [
    "df.head()"
   ]
  },
  {
   "cell_type": "code",
   "execution_count": 13,
   "metadata": {},
   "outputs": [
    {
     "data": {
      "text/plain": [
       "(44898, 5)"
      ]
     },
     "execution_count": 13,
     "metadata": {},
     "output_type": "execute_result"
    }
   ],
   "source": [
    "#check shape, should return 44,898 rows, 5 columns\n",
    "df.shape"
   ]
  },
  {
   "cell_type": "code",
   "execution_count": 14,
   "metadata": {},
   "outputs": [
    {
     "data": {
      "text/plain": [
       "1    23481\n",
       "0    21417\n",
       "Name: target, dtype: int64"
      ]
     },
     "execution_count": 14,
     "metadata": {},
     "output_type": "execute_result"
    }
   ],
   "source": [
    "#check target value counts\n",
    "df.target.value_counts()"
   ]
  },
  {
   "cell_type": "code",
   "execution_count": 15,
   "metadata": {},
   "outputs": [
    {
     "name": "stdout",
     "output_type": "stream",
     "text": [
      "<class 'pandas.core.frame.DataFrame'>\n",
      "RangeIndex: 44898 entries, 0 to 44897\n",
      "Data columns (total 5 columns):\n",
      " #   Column   Non-Null Count  Dtype \n",
      "---  ------   --------------  ----- \n",
      " 0   title    44898 non-null  object\n",
      " 1   text     44898 non-null  object\n",
      " 2   subject  44898 non-null  object\n",
      " 3   date     44898 non-null  object\n",
      " 4   target   44898 non-null  int64 \n",
      "dtypes: int64(1), object(4)\n",
      "memory usage: 1.7+ MB\n"
     ]
    }
   ],
   "source": [
    "#check info\n",
    "df.info()"
   ]
  },
  {
   "cell_type": "markdown",
   "metadata": {},
   "source": [
    "### Data Cleaning\n",
    "- For data cleaning, I have done the following:\n",
    "1. [Trim to remove white spaces](#1.-Trim-to-remove-white-spaces)\n",
    "2. [Inspect null values](#2.-Inspect-null-values)\n",
    "3. [Combine title and text](#3.-Combine-title-and-text)\n",
    "4. [Change date data type](#4.-Change-date-data-type)\n",
    "5. [Find overlapping authors](#5.-Find-overlapping-authors)\n",
    "6. [Inspect duplicates](#6.-Inspect-duplicates)\n",
    "7. [Drop duplicate rows](#7.-Drop-duplicate-rows)\n",
    "8. [Preprocess data](#8.-Preprocess-data)"
   ]
  },
  {
   "cell_type": "markdown",
   "metadata": {},
   "source": [
    "#### 1. Trim to remove white spaces"
   ]
  },
  {
   "cell_type": "code",
   "execution_count": 16,
   "metadata": {},
   "outputs": [],
   "source": [
    "white_space_remover(df)"
   ]
  },
  {
   "cell_type": "code",
   "execution_count": 17,
   "metadata": {},
   "outputs": [],
   "source": [
    "df = df.replace(r'^\\s*$', np.nan, regex=True)"
   ]
  },
  {
   "cell_type": "markdown",
   "metadata": {},
   "source": [
    "#### 2. Check null values"
   ]
  },
  {
   "cell_type": "code",
   "execution_count": 18,
   "metadata": {},
   "outputs": [
    {
     "data": {
      "text/plain": [
       "title        0\n",
       "text       631\n",
       "subject      0\n",
       "date         0\n",
       "target       0\n",
       "dtype: int64"
      ]
     },
     "execution_count": 18,
     "metadata": {},
     "output_type": "execute_result"
    }
   ],
   "source": [
    "df.isnull().sum()"
   ]
  },
  {
   "cell_type": "code",
   "execution_count": 19,
   "metadata": {},
   "outputs": [
    {
     "data": {
      "text/html": [
       "<div>\n",
       "<style scoped>\n",
       "    .dataframe tbody tr th:only-of-type {\n",
       "        vertical-align: middle;\n",
       "    }\n",
       "\n",
       "    .dataframe tbody tr th {\n",
       "        vertical-align: top;\n",
       "    }\n",
       "\n",
       "    .dataframe thead th {\n",
       "        text-align: right;\n",
       "    }\n",
       "</style>\n",
       "<table border=\"1\" class=\"dataframe\">\n",
       "  <thead>\n",
       "    <tr style=\"text-align: right;\">\n",
       "      <th></th>\n",
       "      <th>title</th>\n",
       "      <th>text</th>\n",
       "      <th>subject</th>\n",
       "      <th>date</th>\n",
       "      <th>target</th>\n",
       "    </tr>\n",
       "  </thead>\n",
       "  <tbody>\n",
       "    <tr>\n",
       "      <th>8970</th>\n",
       "      <td>Graphic: Supreme Court roundup</td>\n",
       "      <td>NaN</td>\n",
       "      <td>politicsNews</td>\n",
       "      <td>June 16, 2016</td>\n",
       "      <td>0</td>\n",
       "    </tr>\n",
       "    <tr>\n",
       "      <th>32340</th>\n",
       "      <td>TAKE OUR POLL: Who Do You Think President Trum...</td>\n",
       "      <td>NaN</td>\n",
       "      <td>politics</td>\n",
       "      <td>May 10, 2017</td>\n",
       "      <td>1</td>\n",
       "    </tr>\n",
       "    <tr>\n",
       "      <th>32458</th>\n",
       "      <td>Joe Scarborough BERATES Mika Brzezinski Over “...</td>\n",
       "      <td>NaN</td>\n",
       "      <td>politics</td>\n",
       "      <td>Apr 26, 2017</td>\n",
       "      <td>1</td>\n",
       "    </tr>\n",
       "    <tr>\n",
       "      <th>32607</th>\n",
       "      <td>WATCH TUCKER CARLSON Scorch Sanctuary City May...</td>\n",
       "      <td>NaN</td>\n",
       "      <td>politics</td>\n",
       "      <td>Apr 6, 2017</td>\n",
       "      <td>1</td>\n",
       "    </tr>\n",
       "    <tr>\n",
       "      <th>32642</th>\n",
       "      <td>MAYOR OF SANCTUARY CITY: Trump Trying To Make ...</td>\n",
       "      <td>NaN</td>\n",
       "      <td>politics</td>\n",
       "      <td>Apr 2, 2017</td>\n",
       "      <td>1</td>\n",
       "    </tr>\n",
       "    <tr>\n",
       "      <th>...</th>\n",
       "      <td>...</td>\n",
       "      <td>...</td>\n",
       "      <td>...</td>\n",
       "      <td>...</td>\n",
       "      <td>...</td>\n",
       "    </tr>\n",
       "    <tr>\n",
       "      <th>43233</th>\n",
       "      <td>BALTIMORE BURNS: MARYLAND GOVERNOR BRINGS IN N...</td>\n",
       "      <td>NaN</td>\n",
       "      <td>left-news</td>\n",
       "      <td>Apr 27, 2015</td>\n",
       "      <td>1</td>\n",
       "    </tr>\n",
       "    <tr>\n",
       "      <th>43243</th>\n",
       "      <td>FULL VIDEO: THE BLOCKBUSTER INVESTIGATION INTO...</td>\n",
       "      <td>NaN</td>\n",
       "      <td>left-news</td>\n",
       "      <td>Apr 25, 2015</td>\n",
       "      <td>1</td>\n",
       "    </tr>\n",
       "    <tr>\n",
       "      <th>43244</th>\n",
       "      <td>(VIDEO) HILLARY CLINTON: RELIGIOUS BELIEFS MUS...</td>\n",
       "      <td>NaN</td>\n",
       "      <td>left-news</td>\n",
       "      <td>Apr 25, 2015</td>\n",
       "      <td>1</td>\n",
       "    </tr>\n",
       "    <tr>\n",
       "      <th>43274</th>\n",
       "      <td>(VIDEO)ICE PROTECTING OBAMA: WON’T RELEASE NAM...</td>\n",
       "      <td>NaN</td>\n",
       "      <td>left-news</td>\n",
       "      <td>Apr 14, 2015</td>\n",
       "      <td>1</td>\n",
       "    </tr>\n",
       "    <tr>\n",
       "      <th>43290</th>\n",
       "      <td>(VIDEO) HYSTERICAL SNL TAKE ON HILLARY’S ANNOU...</td>\n",
       "      <td>NaN</td>\n",
       "      <td>left-news</td>\n",
       "      <td>Apr 12, 2015</td>\n",
       "      <td>1</td>\n",
       "    </tr>\n",
       "  </tbody>\n",
       "</table>\n",
       "<p>631 rows × 5 columns</p>\n",
       "</div>"
      ],
      "text/plain": [
       "                                                   title text       subject  \\\n",
       "8970                      Graphic: Supreme Court roundup  NaN  politicsNews   \n",
       "32340  TAKE OUR POLL: Who Do You Think President Trum...  NaN      politics   \n",
       "32458  Joe Scarborough BERATES Mika Brzezinski Over “...  NaN      politics   \n",
       "32607  WATCH TUCKER CARLSON Scorch Sanctuary City May...  NaN      politics   \n",
       "32642  MAYOR OF SANCTUARY CITY: Trump Trying To Make ...  NaN      politics   \n",
       "...                                                  ...  ...           ...   \n",
       "43233  BALTIMORE BURNS: MARYLAND GOVERNOR BRINGS IN N...  NaN     left-news   \n",
       "43243  FULL VIDEO: THE BLOCKBUSTER INVESTIGATION INTO...  NaN     left-news   \n",
       "43244  (VIDEO) HILLARY CLINTON: RELIGIOUS BELIEFS MUS...  NaN     left-news   \n",
       "43274  (VIDEO)ICE PROTECTING OBAMA: WON’T RELEASE NAM...  NaN     left-news   \n",
       "43290  (VIDEO) HYSTERICAL SNL TAKE ON HILLARY’S ANNOU...  NaN     left-news   \n",
       "\n",
       "                date  target  \n",
       "8970   June 16, 2016       0  \n",
       "32340   May 10, 2017       1  \n",
       "32458   Apr 26, 2017       1  \n",
       "32607    Apr 6, 2017       1  \n",
       "32642    Apr 2, 2017       1  \n",
       "...              ...     ...  \n",
       "43233   Apr 27, 2015       1  \n",
       "43243   Apr 25, 2015       1  \n",
       "43244   Apr 25, 2015       1  \n",
       "43274   Apr 14, 2015       1  \n",
       "43290   Apr 12, 2015       1  \n",
       "\n",
       "[631 rows x 5 columns]"
      ]
     },
     "execution_count": 19,
     "metadata": {},
     "output_type": "execute_result"
    }
   ],
   "source": [
    "#print the rows with missing texts\n",
    "df[df['text'].isnull()]"
   ]
  },
  {
   "cell_type": "code",
   "execution_count": 20,
   "metadata": {},
   "outputs": [
    {
     "data": {
      "text/plain": [
       "1.4054078132656243"
      ]
     },
     "execution_count": 20,
     "metadata": {},
     "output_type": "execute_result"
    }
   ],
   "source": [
    "# percentage of null value\n",
    "(df['text'].isnull().sum()/len(df['text']))*100"
   ]
  },
  {
   "cell_type": "code",
   "execution_count": 21,
   "metadata": {},
   "outputs": [
    {
     "data": {
      "text/plain": [
       "0    0.004669\n",
       "1    2.683020\n",
       "dtype: float64"
      ]
     },
     "execution_count": 21,
     "metadata": {},
     "output_type": "execute_result"
    }
   ],
   "source": [
    "# percentage of null values groupby target\n",
    "(df['text'].isnull().groupby(df['target']).sum()/df.target.value_counts())*100"
   ]
  },
  {
   "cell_type": "markdown",
   "metadata": {},
   "source": [
    "**Comments:**\n",
    "- There are 631 of rows(1.4% of dataset) with missing text while the corresponding title is available. \n",
    "- 2.6% of fake dataset have missing texts"
   ]
  },
  {
   "cell_type": "markdown",
   "metadata": {},
   "source": [
    "#### 3. Combine title and text\n",
    "- As there are missing text but the title is intact and might contain useful information, I will combine title and text, and named the column title_text."
   ]
  },
  {
   "cell_type": "code",
   "execution_count": 22,
   "metadata": {},
   "outputs": [],
   "source": [
    "#replace missing row with blank\n",
    "df = df.replace(np.nan, \"\")"
   ]
  },
  {
   "cell_type": "code",
   "execution_count": 23,
   "metadata": {},
   "outputs": [],
   "source": [
    "df['title_text'] = df['title'] + \" \" + df['text']"
   ]
  },
  {
   "cell_type": "code",
   "execution_count": 24,
   "metadata": {},
   "outputs": [
    {
     "data": {
      "text/plain": [
       "0"
      ]
     },
     "execution_count": 24,
     "metadata": {},
     "output_type": "execute_result"
    }
   ],
   "source": [
    "df['title_text'].isnull().sum()"
   ]
  },
  {
   "cell_type": "code",
   "execution_count": 25,
   "metadata": {
    "scrolled": true
   },
   "outputs": [
    {
     "data": {
      "text/html": [
       "<div>\n",
       "<style scoped>\n",
       "    .dataframe tbody tr th:only-of-type {\n",
       "        vertical-align: middle;\n",
       "    }\n",
       "\n",
       "    .dataframe tbody tr th {\n",
       "        vertical-align: top;\n",
       "    }\n",
       "\n",
       "    .dataframe thead th {\n",
       "        text-align: right;\n",
       "    }\n",
       "</style>\n",
       "<table border=\"1\" class=\"dataframe\">\n",
       "  <thead>\n",
       "    <tr style=\"text-align: right;\">\n",
       "      <th></th>\n",
       "      <th>title</th>\n",
       "      <th>text</th>\n",
       "      <th>subject</th>\n",
       "      <th>date</th>\n",
       "      <th>target</th>\n",
       "      <th>title_text</th>\n",
       "    </tr>\n",
       "  </thead>\n",
       "  <tbody>\n",
       "    <tr>\n",
       "      <th>0</th>\n",
       "      <td>As U.S. budget fight looms, Republicans flip t...</td>\n",
       "      <td>WASHINGTON (Reuters) - The head of a conservat...</td>\n",
       "      <td>politicsNews</td>\n",
       "      <td>December 31, 2017</td>\n",
       "      <td>0</td>\n",
       "      <td>As U.S. budget fight looms, Republicans flip t...</td>\n",
       "    </tr>\n",
       "    <tr>\n",
       "      <th>1</th>\n",
       "      <td>U.S. military to accept transgender recruits o...</td>\n",
       "      <td>WASHINGTON (Reuters) - Transgender people will...</td>\n",
       "      <td>politicsNews</td>\n",
       "      <td>December 29, 2017</td>\n",
       "      <td>0</td>\n",
       "      <td>U.S. military to accept transgender recruits o...</td>\n",
       "    </tr>\n",
       "    <tr>\n",
       "      <th>2</th>\n",
       "      <td>Senior U.S. Republican senator: 'Let Mr. Muell...</td>\n",
       "      <td>WASHINGTON (Reuters) - The special counsel inv...</td>\n",
       "      <td>politicsNews</td>\n",
       "      <td>December 31, 2017</td>\n",
       "      <td>0</td>\n",
       "      <td>Senior U.S. Republican senator: 'Let Mr. Muell...</td>\n",
       "    </tr>\n",
       "    <tr>\n",
       "      <th>3</th>\n",
       "      <td>FBI Russia probe helped by Australian diplomat...</td>\n",
       "      <td>WASHINGTON (Reuters) - Trump campaign adviser ...</td>\n",
       "      <td>politicsNews</td>\n",
       "      <td>December 30, 2017</td>\n",
       "      <td>0</td>\n",
       "      <td>FBI Russia probe helped by Australian diplomat...</td>\n",
       "    </tr>\n",
       "    <tr>\n",
       "      <th>4</th>\n",
       "      <td>Trump wants Postal Service to charge 'much mor...</td>\n",
       "      <td>SEATTLE/WASHINGTON (Reuters) - President Donal...</td>\n",
       "      <td>politicsNews</td>\n",
       "      <td>December 29, 2017</td>\n",
       "      <td>0</td>\n",
       "      <td>Trump wants Postal Service to charge 'much mor...</td>\n",
       "    </tr>\n",
       "  </tbody>\n",
       "</table>\n",
       "</div>"
      ],
      "text/plain": [
       "                                               title  \\\n",
       "0  As U.S. budget fight looms, Republicans flip t...   \n",
       "1  U.S. military to accept transgender recruits o...   \n",
       "2  Senior U.S. Republican senator: 'Let Mr. Muell...   \n",
       "3  FBI Russia probe helped by Australian diplomat...   \n",
       "4  Trump wants Postal Service to charge 'much mor...   \n",
       "\n",
       "                                                text       subject  \\\n",
       "0  WASHINGTON (Reuters) - The head of a conservat...  politicsNews   \n",
       "1  WASHINGTON (Reuters) - Transgender people will...  politicsNews   \n",
       "2  WASHINGTON (Reuters) - The special counsel inv...  politicsNews   \n",
       "3  WASHINGTON (Reuters) - Trump campaign adviser ...  politicsNews   \n",
       "4  SEATTLE/WASHINGTON (Reuters) - President Donal...  politicsNews   \n",
       "\n",
       "                date  target  \\\n",
       "0  December 31, 2017       0   \n",
       "1  December 29, 2017       0   \n",
       "2  December 31, 2017       0   \n",
       "3  December 30, 2017       0   \n",
       "4  December 29, 2017       0   \n",
       "\n",
       "                                          title_text  \n",
       "0  As U.S. budget fight looms, Republicans flip t...  \n",
       "1  U.S. military to accept transgender recruits o...  \n",
       "2  Senior U.S. Republican senator: 'Let Mr. Muell...  \n",
       "3  FBI Russia probe helped by Australian diplomat...  \n",
       "4  Trump wants Postal Service to charge 'much mor...  "
      ]
     },
     "execution_count": 25,
     "metadata": {},
     "output_type": "execute_result"
    }
   ],
   "source": [
    "df.head()"
   ]
  },
  {
   "cell_type": "markdown",
   "metadata": {},
   "source": [
    "#### 4. Change date data type\n",
    "- I ran into 'unknown string format' error when I try to convert the date. My next step is to determine which rows have undesirable string format, and remove it. "
   ]
  },
  {
   "cell_type": "code",
   "execution_count": 26,
   "metadata": {
    "scrolled": true
   },
   "outputs": [
    {
     "data": {
      "text/plain": [
       "December 20, 2017                                                                                                                                        185\n",
       "November 30, 2017                                                                                                                                        169\n",
       "December 6, 2017                                                                                                                                         169\n",
       "November 9, 2017                                                                                                                                         162\n",
       "September 21, 2017                                                                                                                                       161\n",
       "                                                                                                                                                        ... \n",
       "https://100percentfedup.com/served-roy-moore-vietnamletter-veteran-sets-record-straight-honorable-decent-respectable-patriotic-commander-soldier/          1\n",
       "Jun 7, 2015                                                                                                                                                1\n",
       "https://100percentfedup.com/12-yr-old-black-conservative-whose-video-to-obama-went-viral-do-you-really-love-america-receives-death-threats-from-left/      1\n",
       "https://100percentfedup.com/video-hillary-asked-about-trump-i-just-want-to-eat-some-pie/                                                                   1\n",
       "Jul 18, 2015                                                                                                                                               1\n",
       "Name: date, Length: 1685, dtype: int64"
      ]
     },
     "execution_count": 26,
     "metadata": {},
     "output_type": "execute_result"
    }
   ],
   "source": [
    "df.date.value_counts()"
   ]
  },
  {
   "cell_type": "markdown",
   "metadata": {},
   "source": [
    "- There are instances where the date value does not contain date information but website URL."
   ]
  },
  {
   "cell_type": "code",
   "execution_count": 27,
   "metadata": {},
   "outputs": [
    {
     "data": {
      "text/html": [
       "<div>\n",
       "<style scoped>\n",
       "    .dataframe tbody tr th:only-of-type {\n",
       "        vertical-align: middle;\n",
       "    }\n",
       "\n",
       "    .dataframe tbody tr th {\n",
       "        vertical-align: top;\n",
       "    }\n",
       "\n",
       "    .dataframe thead th {\n",
       "        text-align: right;\n",
       "    }\n",
       "</style>\n",
       "<table border=\"1\" class=\"dataframe\">\n",
       "  <thead>\n",
       "    <tr style=\"text-align: right;\">\n",
       "      <th></th>\n",
       "      <th>title</th>\n",
       "      <th>text</th>\n",
       "      <th>subject</th>\n",
       "      <th>date</th>\n",
       "      <th>target</th>\n",
       "      <th>title_text</th>\n",
       "    </tr>\n",
       "  </thead>\n",
       "  <tbody>\n",
       "    <tr>\n",
       "      <th>30775</th>\n",
       "      <td>https://100percentfedup.com/served-roy-moore-v...</td>\n",
       "      <td>https://100percentfedup.com/served-roy-moore-v...</td>\n",
       "      <td>politics</td>\n",
       "      <td>https://100percentfedup.com/served-roy-moore-v...</td>\n",
       "      <td>1</td>\n",
       "      <td>https://100percentfedup.com/served-roy-moore-v...</td>\n",
       "    </tr>\n",
       "    <tr>\n",
       "      <th>36924</th>\n",
       "      <td>https://100percentfedup.com/video-hillary-aske...</td>\n",
       "      <td>https://100percentfedup.com/video-hillary-aske...</td>\n",
       "      <td>politics</td>\n",
       "      <td>https://100percentfedup.com/video-hillary-aske...</td>\n",
       "      <td>1</td>\n",
       "      <td>https://100percentfedup.com/video-hillary-aske...</td>\n",
       "    </tr>\n",
       "    <tr>\n",
       "      <th>36925</th>\n",
       "      <td>https://100percentfedup.com/12-yr-old-black-co...</td>\n",
       "      <td>https://100percentfedup.com/12-yr-old-black-co...</td>\n",
       "      <td>politics</td>\n",
       "      <td>https://100percentfedup.com/12-yr-old-black-co...</td>\n",
       "      <td>1</td>\n",
       "      <td>https://100percentfedup.com/12-yr-old-black-co...</td>\n",
       "    </tr>\n",
       "    <tr>\n",
       "      <th>37256</th>\n",
       "      <td>https://fedup.wpengine.com/wp-content/uploads/...</td>\n",
       "      <td>https://fedup.wpengine.com/wp-content/uploads/...</td>\n",
       "      <td>politics</td>\n",
       "      <td>https://fedup.wpengine.com/wp-content/uploads/...</td>\n",
       "      <td>1</td>\n",
       "      <td>https://fedup.wpengine.com/wp-content/uploads/...</td>\n",
       "    </tr>\n",
       "    <tr>\n",
       "      <th>37257</th>\n",
       "      <td>https://fedup.wpengine.com/wp-content/uploads/...</td>\n",
       "      <td>https://fedup.wpengine.com/wp-content/uploads/...</td>\n",
       "      <td>politics</td>\n",
       "      <td>https://fedup.wpengine.com/wp-content/uploads/...</td>\n",
       "      <td>1</td>\n",
       "      <td>https://fedup.wpengine.com/wp-content/uploads/...</td>\n",
       "    </tr>\n",
       "    <tr>\n",
       "      <th>38849</th>\n",
       "      <td>https://fedup.wpengine.com/wp-content/uploads/...</td>\n",
       "      <td>https://fedup.wpengine.com/wp-content/uploads/...</td>\n",
       "      <td>Government News</td>\n",
       "      <td>https://fedup.wpengine.com/wp-content/uploads/...</td>\n",
       "      <td>1</td>\n",
       "      <td>https://fedup.wpengine.com/wp-content/uploads/...</td>\n",
       "    </tr>\n",
       "    <tr>\n",
       "      <th>38850</th>\n",
       "      <td>https://fedup.wpengine.com/wp-content/uploads/...</td>\n",
       "      <td>https://fedup.wpengine.com/wp-content/uploads/...</td>\n",
       "      <td>Government News</td>\n",
       "      <td>https://fedup.wpengine.com/wp-content/uploads/...</td>\n",
       "      <td>1</td>\n",
       "      <td>https://fedup.wpengine.com/wp-content/uploads/...</td>\n",
       "    </tr>\n",
       "    <tr>\n",
       "      <th>43286</th>\n",
       "      <td>https://fedup.wpengine.com/wp-content/uploads/...</td>\n",
       "      <td>https://fedup.wpengine.com/wp-content/uploads/...</td>\n",
       "      <td>left-news</td>\n",
       "      <td>https://fedup.wpengine.com/wp-content/uploads/...</td>\n",
       "      <td>1</td>\n",
       "      <td>https://fedup.wpengine.com/wp-content/uploads/...</td>\n",
       "    </tr>\n",
       "    <tr>\n",
       "      <th>43287</th>\n",
       "      <td>https://fedup.wpengine.com/wp-content/uploads/...</td>\n",
       "      <td>https://fedup.wpengine.com/wp-content/uploads/...</td>\n",
       "      <td>left-news</td>\n",
       "      <td>https://fedup.wpengine.com/wp-content/uploads/...</td>\n",
       "      <td>1</td>\n",
       "      <td>https://fedup.wpengine.com/wp-content/uploads/...</td>\n",
       "    </tr>\n",
       "  </tbody>\n",
       "</table>\n",
       "</div>"
      ],
      "text/plain": [
       "                                                   title  \\\n",
       "30775  https://100percentfedup.com/served-roy-moore-v...   \n",
       "36924  https://100percentfedup.com/video-hillary-aske...   \n",
       "36925  https://100percentfedup.com/12-yr-old-black-co...   \n",
       "37256  https://fedup.wpengine.com/wp-content/uploads/...   \n",
       "37257  https://fedup.wpengine.com/wp-content/uploads/...   \n",
       "38849  https://fedup.wpengine.com/wp-content/uploads/...   \n",
       "38850  https://fedup.wpengine.com/wp-content/uploads/...   \n",
       "43286  https://fedup.wpengine.com/wp-content/uploads/...   \n",
       "43287  https://fedup.wpengine.com/wp-content/uploads/...   \n",
       "\n",
       "                                                    text          subject  \\\n",
       "30775  https://100percentfedup.com/served-roy-moore-v...         politics   \n",
       "36924  https://100percentfedup.com/video-hillary-aske...         politics   \n",
       "36925  https://100percentfedup.com/12-yr-old-black-co...         politics   \n",
       "37256  https://fedup.wpengine.com/wp-content/uploads/...         politics   \n",
       "37257  https://fedup.wpengine.com/wp-content/uploads/...         politics   \n",
       "38849  https://fedup.wpengine.com/wp-content/uploads/...  Government News   \n",
       "38850  https://fedup.wpengine.com/wp-content/uploads/...  Government News   \n",
       "43286  https://fedup.wpengine.com/wp-content/uploads/...        left-news   \n",
       "43287  https://fedup.wpengine.com/wp-content/uploads/...        left-news   \n",
       "\n",
       "                                                    date  target  \\\n",
       "30775  https://100percentfedup.com/served-roy-moore-v...       1   \n",
       "36924  https://100percentfedup.com/video-hillary-aske...       1   \n",
       "36925  https://100percentfedup.com/12-yr-old-black-co...       1   \n",
       "37256  https://fedup.wpengine.com/wp-content/uploads/...       1   \n",
       "37257  https://fedup.wpengine.com/wp-content/uploads/...       1   \n",
       "38849  https://fedup.wpengine.com/wp-content/uploads/...       1   \n",
       "38850  https://fedup.wpengine.com/wp-content/uploads/...       1   \n",
       "43286  https://fedup.wpengine.com/wp-content/uploads/...       1   \n",
       "43287  https://fedup.wpengine.com/wp-content/uploads/...       1   \n",
       "\n",
       "                                              title_text  \n",
       "30775  https://100percentfedup.com/served-roy-moore-v...  \n",
       "36924  https://100percentfedup.com/video-hillary-aske...  \n",
       "36925  https://100percentfedup.com/12-yr-old-black-co...  \n",
       "37256  https://fedup.wpengine.com/wp-content/uploads/...  \n",
       "37257  https://fedup.wpengine.com/wp-content/uploads/...  \n",
       "38849  https://fedup.wpengine.com/wp-content/uploads/...  \n",
       "38850  https://fedup.wpengine.com/wp-content/uploads/...  \n",
       "43286  https://fedup.wpengine.com/wp-content/uploads/...  \n",
       "43287  https://fedup.wpengine.com/wp-content/uploads/...  "
      ]
     },
     "execution_count": 27,
     "metadata": {},
     "output_type": "execute_result"
    }
   ],
   "source": [
    "#find string that contains website URL\n",
    "date_index = df[df['date'].str.contains('https')].index.values.tolist()\n",
    "\n",
    "df[df.index.isin(date_index)]"
   ]
  },
  {
   "cell_type": "markdown",
   "metadata": {},
   "source": [
    "- The `text` element does not contain anything meaningful as well. As such, I will drop these rows"
   ]
  },
  {
   "cell_type": "code",
   "execution_count": 28,
   "metadata": {
    "scrolled": true
   },
   "outputs": [
    {
     "data": {
      "text/plain": [
       "(44898, 6)"
      ]
     },
     "execution_count": 28,
     "metadata": {},
     "output_type": "execute_result"
    }
   ],
   "source": [
    "#check shape before dropping\n",
    "df.shape"
   ]
  },
  {
   "cell_type": "code",
   "execution_count": 29,
   "metadata": {},
   "outputs": [],
   "source": [
    "# drop rows\n",
    "for i in date_index:\n",
    "    df.drop([i], axis='index',inplace =True)"
   ]
  },
  {
   "cell_type": "code",
   "execution_count": 30,
   "metadata": {},
   "outputs": [
    {
     "data": {
      "text/plain": [
       "(44889, 6)"
      ]
     },
     "execution_count": 30,
     "metadata": {},
     "output_type": "execute_result"
    }
   ],
   "source": [
    "#check shape after dropping\n",
    "df.shape"
   ]
  },
  {
   "cell_type": "markdown",
   "metadata": {},
   "source": [
    "I tried converting the date column but ran into error again. "
   ]
  },
  {
   "cell_type": "code",
   "execution_count": 31,
   "metadata": {},
   "outputs": [
    {
     "data": {
      "text/plain": [
       "array(['December 31, 2017', 'December 29, 2017', 'December 30, 2017', ...,\n",
       "       'May 2, 2015',\n",
       "       'MSNBC HOST Rudely Assumes Steel Worker Would Never Let His Son Follow in His Footsteps…He Couldn’t Be More Wrong [Video]',\n",
       "       'Jul 18, 2015'], dtype=object)"
      ]
     },
     "execution_count": 31,
     "metadata": {},
     "output_type": "execute_result"
    }
   ],
   "source": [
    "df.date.unique()"
   ]
  },
  {
   "cell_type": "markdown",
   "metadata": {},
   "source": [
    "There is a row that does not contain date information. As such I will drop the row"
   ]
  },
  {
   "cell_type": "code",
   "execution_count": 32,
   "metadata": {
    "scrolled": true
   },
   "outputs": [
    {
     "data": {
      "text/html": [
       "<div>\n",
       "<style scoped>\n",
       "    .dataframe tbody tr th:only-of-type {\n",
       "        vertical-align: middle;\n",
       "    }\n",
       "\n",
       "    .dataframe tbody tr th {\n",
       "        vertical-align: top;\n",
       "    }\n",
       "\n",
       "    .dataframe thead th {\n",
       "        text-align: right;\n",
       "    }\n",
       "</style>\n",
       "<table border=\"1\" class=\"dataframe\">\n",
       "  <thead>\n",
       "    <tr style=\"text-align: right;\">\n",
       "      <th></th>\n",
       "      <th>title</th>\n",
       "      <th>text</th>\n",
       "      <th>subject</th>\n",
       "      <th>date</th>\n",
       "      <th>target</th>\n",
       "      <th>title_text</th>\n",
       "    </tr>\n",
       "  </thead>\n",
       "  <tbody>\n",
       "    <tr>\n",
       "      <th>40350</th>\n",
       "      <td>Homepage</td>\n",
       "      <td>[vc_row][vc_column width= 1/1 ][td_block_trend...</td>\n",
       "      <td>left-news</td>\n",
       "      <td>MSNBC HOST Rudely Assumes Steel Worker Would N...</td>\n",
       "      <td>1</td>\n",
       "      <td>Homepage [vc_row][vc_column width= 1/1 ][td_bl...</td>\n",
       "    </tr>\n",
       "  </tbody>\n",
       "</table>\n",
       "</div>"
      ],
      "text/plain": [
       "          title                                               text    subject  \\\n",
       "40350  Homepage  [vc_row][vc_column width= 1/1 ][td_block_trend...  left-news   \n",
       "\n",
       "                                                    date  target  \\\n",
       "40350  MSNBC HOST Rudely Assumes Steel Worker Would N...       1   \n",
       "\n",
       "                                              title_text  \n",
       "40350  Homepage [vc_row][vc_column width= 1/1 ][td_bl...  "
      ]
     },
     "execution_count": 32,
     "metadata": {},
     "output_type": "execute_result"
    }
   ],
   "source": [
    "#find string that contains 'MSNBC'\n",
    "date_index = df[df['date'].str.contains('MSNBC')].index.values.tolist()\n",
    "\n",
    "df[df.index.isin(date_index)]"
   ]
  },
  {
   "cell_type": "markdown",
   "metadata": {},
   "source": [
    "- Similarly, the `text` column does not contain any meaningful information. As such, I will drop this row."
   ]
  },
  {
   "cell_type": "code",
   "execution_count": 33,
   "metadata": {},
   "outputs": [],
   "source": [
    "# drop row\n",
    "for i in date_index:\n",
    "    df.drop([i], axis='index',inplace =True)"
   ]
  },
  {
   "cell_type": "code",
   "execution_count": 34,
   "metadata": {},
   "outputs": [
    {
     "data": {
      "text/plain": [
       "(44888, 6)"
      ]
     },
     "execution_count": 34,
     "metadata": {},
     "output_type": "execute_result"
    }
   ],
   "source": [
    "df.shape"
   ]
  },
  {
   "cell_type": "code",
   "execution_count": 35,
   "metadata": {},
   "outputs": [
    {
     "data": {
      "text/plain": [
       "dtype('<M8[ns]')"
      ]
     },
     "execution_count": 35,
     "metadata": {},
     "output_type": "execute_result"
    }
   ],
   "source": [
    "# convert date \n",
    "convert_date(df)"
   ]
  },
  {
   "cell_type": "code",
   "execution_count": 36,
   "metadata": {},
   "outputs": [
    {
     "name": "stdout",
     "output_type": "stream",
     "text": [
      "<class 'pandas.core.frame.DataFrame'>\n",
      "RangeIndex: 44888 entries, 0 to 44887\n",
      "Data columns (total 6 columns):\n",
      " #   Column      Non-Null Count  Dtype         \n",
      "---  ------      --------------  -----         \n",
      " 0   title       44888 non-null  object        \n",
      " 1   text        44888 non-null  object        \n",
      " 2   subject     44888 non-null  object        \n",
      " 3   date        44888 non-null  datetime64[ns]\n",
      " 4   target      44888 non-null  int64         \n",
      " 5   title_text  44888 non-null  object        \n",
      "dtypes: datetime64[ns](1), int64(1), object(4)\n",
      "memory usage: 2.1+ MB\n"
     ]
    }
   ],
   "source": [
    "df.info()"
   ]
  },
  {
   "cell_type": "markdown",
   "metadata": {},
   "source": [
    "- The date column has been converted to an appropriate data type and I am left with 44888 rows. "
   ]
  },
  {
   "cell_type": "markdown",
   "metadata": {},
   "source": [
    "#### 5. Find overlapping authors\n",
    "- In this part, I want to find out if there are authors that post both fake and genuine articles"
   ]
  },
  {
   "cell_type": "code",
   "execution_count": 37,
   "metadata": {},
   "outputs": [
    {
     "name": "stdout",
     "output_type": "stream",
     "text": [
      "Number of distinct authors with genuine articles:  2\n",
      "Number of distinct authors with fake articles:  6\n",
      "Number of distinct authors with both genuine and fake:  0\n"
     ]
    }
   ],
   "source": [
    "genuine_authors = set(list(df[df['target']==0]['subject'].unique()))\n",
    "fake_authors = set(list(df[df['target']==1]['subject'].unique()))\n",
    "overlapped_authors = genuine_authors.intersection(fake_authors)\n",
    "print(\"Number of distinct authors with genuine articles: \", len(genuine_authors))\n",
    "print(\"Number of distinct authors with fake articles: \", len(fake_authors))\n",
    "print(\"Number of distinct authors with both genuine and fake: \", len(overlapped_authors))"
   ]
  },
  {
   "cell_type": "markdown",
   "metadata": {},
   "source": [
    "**Comments:**\n",
    "<br>There are no authors with both and fake news."
   ]
  },
  {
   "cell_type": "markdown",
   "metadata": {},
   "source": [
    "#### 6. Inspect duplicates\n",
    "- Earlier we saw 399 duplicate rows in true news dataset and 6 duplicate rows in fake news dataset.\n",
    "- I will inspect the rows with duplicates and take appropriate actions."
   ]
  },
  {
   "cell_type": "code",
   "execution_count": 38,
   "metadata": {},
   "outputs": [
    {
     "data": {
      "text/plain": [
       "False"
      ]
     },
     "execution_count": 38,
     "metadata": {},
     "output_type": "execute_result"
    }
   ],
   "source": [
    "#check if `title` and `text` contain same element\n",
    "df['title'].equals(df['text'])"
   ]
  },
  {
   "cell_type": "code",
   "execution_count": 39,
   "metadata": {},
   "outputs": [],
   "source": [
    "#find duplicated rows, boolean series\n",
    "duplicated_text = df[\"title_text\"].duplicated(keep=False)"
   ]
  },
  {
   "cell_type": "code",
   "execution_count": 40,
   "metadata": {},
   "outputs": [],
   "source": [
    "#saving the index of identified duplicated rows\n",
    "text_index = df[\"title_text\"][duplicated_text].sort_values().index"
   ]
  },
  {
   "cell_type": "code",
   "execution_count": 41,
   "metadata": {},
   "outputs": [
    {
     "data": {
      "text/html": [
       "<div>\n",
       "<style scoped>\n",
       "    .dataframe tbody tr th:only-of-type {\n",
       "        vertical-align: middle;\n",
       "    }\n",
       "\n",
       "    .dataframe tbody tr th {\n",
       "        vertical-align: top;\n",
       "    }\n",
       "\n",
       "    .dataframe thead th {\n",
       "        text-align: right;\n",
       "    }\n",
       "</style>\n",
       "<table border=\"1\" class=\"dataframe\">\n",
       "  <thead>\n",
       "    <tr style=\"text-align: right;\">\n",
       "      <th></th>\n",
       "      <th>title</th>\n",
       "      <th>text</th>\n",
       "      <th>subject</th>\n",
       "      <th>date</th>\n",
       "      <th>target</th>\n",
       "      <th>title_text</th>\n",
       "    </tr>\n",
       "  </thead>\n",
       "  <tbody>\n",
       "    <tr>\n",
       "      <th>7071</th>\n",
       "      <td>#AnyoneButHillary: NEW POLL Shows Bernie Suppo...</td>\n",
       "      <td>Hillary may find out she needs more than black...</td>\n",
       "      <td>left-news</td>\n",
       "      <td>2016-04-06</td>\n",
       "      <td>1</td>\n",
       "      <td>#AnyoneButHillary: NEW POLL Shows Bernie Suppo...</td>\n",
       "    </tr>\n",
       "    <tr>\n",
       "      <th>7084</th>\n",
       "      <td>#AnyoneButHillary: NEW POLL Shows Bernie Suppo...</td>\n",
       "      <td>Hillary may find out she needs more than black...</td>\n",
       "      <td>politics</td>\n",
       "      <td>2016-04-06</td>\n",
       "      <td>1</td>\n",
       "      <td>#AnyoneButHillary: NEW POLL Shows Bernie Suppo...</td>\n",
       "    </tr>\n",
       "    <tr>\n",
       "      <th>33493</th>\n",
       "      <td>#Austin: Fights Break Out Between Police and S...</td>\n",
       "      <td>Commies carrying flags fought with the Austin ...</td>\n",
       "      <td>left-news</td>\n",
       "      <td>2017-09-23</td>\n",
       "      <td>1</td>\n",
       "      <td>#Austin: Fights Break Out Between Police and S...</td>\n",
       "    </tr>\n",
       "    <tr>\n",
       "      <th>33559</th>\n",
       "      <td>#Austin: Fights Break Out Between Police and S...</td>\n",
       "      <td>Commies carrying flags fought with the Austin ...</td>\n",
       "      <td>politics</td>\n",
       "      <td>2017-09-23</td>\n",
       "      <td>1</td>\n",
       "      <td>#Austin: Fights Break Out Between Police and S...</td>\n",
       "    </tr>\n",
       "    <tr>\n",
       "      <th>20886</th>\n",
       "      <td>#Berkeley CRAZY! RIOTERS CHASE And Beat People...</td>\n",
       "      <td>Is anyone else thinking what we re thinking ab...</td>\n",
       "      <td>politics</td>\n",
       "      <td>2017-02-02</td>\n",
       "      <td>1</td>\n",
       "      <td>#Berkeley CRAZY! RIOTERS CHASE And Beat People...</td>\n",
       "    </tr>\n",
       "    <tr>\n",
       "      <th>...</th>\n",
       "      <td>...</td>\n",
       "      <td>...</td>\n",
       "      <td>...</td>\n",
       "      <td>...</td>\n",
       "      <td>...</td>\n",
       "      <td>...</td>\n",
       "    </tr>\n",
       "    <tr>\n",
       "      <th>21449</th>\n",
       "      <td>“Would You Rather Do A Job You Hate And Not Pa...</td>\n",
       "      <td>Filmmaker and patriot, Dennis Michael Lynch is...</td>\n",
       "      <td>left-news</td>\n",
       "      <td>2017-02-12</td>\n",
       "      <td>1</td>\n",
       "      <td>“Would You Rather Do A Job You Hate And Not Pa...</td>\n",
       "    </tr>\n",
       "    <tr>\n",
       "      <th>6349</th>\n",
       "      <td>“YOU’RE HIRED!” Trump Pulls Unemployed Vet Fro...</td>\n",
       "      <td>No matter which candidate you support, this mo...</td>\n",
       "      <td>politics</td>\n",
       "      <td>2016-03-21</td>\n",
       "      <td>1</td>\n",
       "      <td>“YOU’RE HIRED!” Trump Pulls Unemployed Vet Fro...</td>\n",
       "    </tr>\n",
       "    <tr>\n",
       "      <th>6344</th>\n",
       "      <td>“YOU’RE HIRED!” Trump Pulls Unemployed Vet Fro...</td>\n",
       "      <td>No matter which candidate you support, this mo...</td>\n",
       "      <td>Government News</td>\n",
       "      <td>2016-03-21</td>\n",
       "      <td>1</td>\n",
       "      <td>“YOU’RE HIRED!” Trump Pulls Unemployed Vet Fro...</td>\n",
       "    </tr>\n",
       "    <tr>\n",
       "      <th>1664</th>\n",
       "      <td>“You’re Not Welcome!” Obama As Welcome At Rose...</td>\n",
       "      <td>Roseberg residents and families of victims are...</td>\n",
       "      <td>politics</td>\n",
       "      <td>2015-10-07</td>\n",
       "      <td>1</td>\n",
       "      <td>“You’re Not Welcome!” Obama As Welcome At Rose...</td>\n",
       "    </tr>\n",
       "    <tr>\n",
       "      <th>1668</th>\n",
       "      <td>“You’re Not Welcome!” Obama As Welcome At Rose...</td>\n",
       "      <td>Roseberg residents and families of victims are...</td>\n",
       "      <td>left-news</td>\n",
       "      <td>2015-10-07</td>\n",
       "      <td>1</td>\n",
       "      <td>“You’re Not Welcome!” Obama As Welcome At Rose...</td>\n",
       "    </tr>\n",
       "  </tbody>\n",
       "</table>\n",
       "<p>11094 rows × 6 columns</p>\n",
       "</div>"
      ],
      "text/plain": [
       "                                                   title  \\\n",
       "7071   #AnyoneButHillary: NEW POLL Shows Bernie Suppo...   \n",
       "7084   #AnyoneButHillary: NEW POLL Shows Bernie Suppo...   \n",
       "33493  #Austin: Fights Break Out Between Police and S...   \n",
       "33559  #Austin: Fights Break Out Between Police and S...   \n",
       "20886  #Berkeley CRAZY! RIOTERS CHASE And Beat People...   \n",
       "...                                                  ...   \n",
       "21449  “Would You Rather Do A Job You Hate And Not Pa...   \n",
       "6349   “YOU’RE HIRED!” Trump Pulls Unemployed Vet Fro...   \n",
       "6344   “YOU’RE HIRED!” Trump Pulls Unemployed Vet Fro...   \n",
       "1664   “You’re Not Welcome!” Obama As Welcome At Rose...   \n",
       "1668   “You’re Not Welcome!” Obama As Welcome At Rose...   \n",
       "\n",
       "                                                    text          subject  \\\n",
       "7071   Hillary may find out she needs more than black...        left-news   \n",
       "7084   Hillary may find out she needs more than black...         politics   \n",
       "33493  Commies carrying flags fought with the Austin ...        left-news   \n",
       "33559  Commies carrying flags fought with the Austin ...         politics   \n",
       "20886  Is anyone else thinking what we re thinking ab...         politics   \n",
       "...                                                  ...              ...   \n",
       "21449  Filmmaker and patriot, Dennis Michael Lynch is...        left-news   \n",
       "6349   No matter which candidate you support, this mo...         politics   \n",
       "6344   No matter which candidate you support, this mo...  Government News   \n",
       "1664   Roseberg residents and families of victims are...         politics   \n",
       "1668   Roseberg residents and families of victims are...        left-news   \n",
       "\n",
       "            date  target                                         title_text  \n",
       "7071  2016-04-06       1  #AnyoneButHillary: NEW POLL Shows Bernie Suppo...  \n",
       "7084  2016-04-06       1  #AnyoneButHillary: NEW POLL Shows Bernie Suppo...  \n",
       "33493 2017-09-23       1  #Austin: Fights Break Out Between Police and S...  \n",
       "33559 2017-09-23       1  #Austin: Fights Break Out Between Police and S...  \n",
       "20886 2017-02-02       1  #Berkeley CRAZY! RIOTERS CHASE And Beat People...  \n",
       "...          ...     ...                                                ...  \n",
       "21449 2017-02-12       1  “Would You Rather Do A Job You Hate And Not Pa...  \n",
       "6349  2016-03-21       1  “YOU’RE HIRED!” Trump Pulls Unemployed Vet Fro...  \n",
       "6344  2016-03-21       1  “YOU’RE HIRED!” Trump Pulls Unemployed Vet Fro...  \n",
       "1664  2015-10-07       1  “You’re Not Welcome!” Obama As Welcome At Rose...  \n",
       "1668  2015-10-07       1  “You’re Not Welcome!” Obama As Welcome At Rose...  \n",
       "\n",
       "[11094 rows x 6 columns]"
      ]
     },
     "execution_count": 41,
     "metadata": {},
     "output_type": "execute_result"
    }
   ],
   "source": [
    "#print first 10 rows of duplicated rows\n",
    "df.loc[text_index]"
   ]
  },
  {
   "cell_type": "code",
   "execution_count": 42,
   "metadata": {},
   "outputs": [
    {
     "data": {
      "text/plain": [
       "1    0.96133\n",
       "0    0.03867\n",
       "Name: target, dtype: float64"
      ]
     },
     "execution_count": 42,
     "metadata": {},
     "output_type": "execute_result"
    }
   ],
   "source": [
    "#distribution of duplicate rows by target\n",
    "temp = df.loc[text_index]\n",
    "temp.target.value_counts(normalize=True)"
   ]
  },
  {
   "cell_type": "code",
   "execution_count": 43,
   "metadata": {},
   "outputs": [
    {
     "data": {
      "text/plain": [
       "<AxesSubplot:xlabel='target', ylabel='count'>"
      ]
     },
     "execution_count": 43,
     "metadata": {},
     "output_type": "execute_result"
    },
    {
     "data": {
      "image/png": "[encoded data removed]",
      "text/plain": [
       "<Figure size 432x288 with 1 Axes>"
      ]
     },
     "metadata": {
      "needs_background": "light"
     },
     "output_type": "display_data"
    }
   ],
   "source": [
    "sns.countplot(data = temp, x='target')"
   ]
  },
  {
   "cell_type": "markdown",
   "metadata": {},
   "source": [
    "- Most of the duplicated `text` rows are from fake news dataset"
   ]
  },
  {
   "cell_type": "code",
   "execution_count": 44,
   "metadata": {},
   "outputs": [
    {
     "data": {
      "text/plain": [
       "<matplotlib.legend.Legend at 0x1b044563808>"
      ]
     },
     "execution_count": 44,
     "metadata": {},
     "output_type": "execute_result"
    },
    {
     "data": {
      "image/png": "[encoded data removed]",
      "text/plain": [
       "<Figure size 432x288 with 1 Axes>"
      ]
     },
     "metadata": {
      "needs_background": "light"
     },
     "output_type": "display_data"
    }
   ],
   "source": [
    "#count of duplicate rows by subject\n",
    "sns.countplot(data = temp, x='target', hue = 'subject')\n",
    "plt.legend(loc='upper left')"
   ]
  },
  {
   "cell_type": "markdown",
   "metadata": {},
   "source": [
    "- politics and left-news are major contributors of duplicate rows."
   ]
  },
  {
   "cell_type": "markdown",
   "metadata": {},
   "source": [
    "**Comments:**\n",
    "- Politics and left-news are major contributors of duplicate rows.\n",
    "- There are empty rows in text column which are identified as duplicates. These rows were not accounted as null when I checked earlier after removing whitespaces.\n",
    "- Next, I want to find out how many of such rows exist in our dataset.In order to do that, I will replace the blank values with np.nan. \n",
    "- I also note that there are duplicated text by different authors. I believe these subjects are somewhat associated or come from the same narratives. It will be a problem if the same text are both fake and true targets. "
   ]
  },
  {
   "cell_type": "markdown",
   "metadata": {},
   "source": [
    "#### 7. Drop duplicate rows"
   ]
  },
  {
   "cell_type": "code",
   "execution_count": 45,
   "metadata": {
    "scrolled": true
   },
   "outputs": [
    {
     "name": "stdout",
     "output_type": "stream",
     "text": [
      "Number of duplicated rows:  5791 \n",
      "Number of rows in dataset:  44888\n"
     ]
    }
   ],
   "source": [
    "#check duplicates\n",
    "print(\"Number of duplicated rows: \",df.title_text.duplicated().sum(),\n",
    "      \"\\nNumber of rows in dataset: \",len(df))"
   ]
  },
  {
   "cell_type": "code",
   "execution_count": 46,
   "metadata": {},
   "outputs": [],
   "source": [
    "#drop duplicate, keep last row\n",
    "df.drop_duplicates(subset=['title_text'], keep = 'last', inplace=True )"
   ]
  },
  {
   "cell_type": "code",
   "execution_count": 47,
   "metadata": {},
   "outputs": [
    {
     "name": "stdout",
     "output_type": "stream",
     "text": [
      "Number of duplicated rows:  0 \n",
      "Number of rows in dataset:  39097\n"
     ]
    }
   ],
   "source": [
    "#check duplicates and total number of rows\n",
    "print(\"Number of duplicated rows: \",df.title_text.duplicated().sum(),\n",
    "      \"\\nNumber of rows in dataset: \",len(df))"
   ]
  },
  {
   "cell_type": "code",
   "execution_count": 48,
   "metadata": {},
   "outputs": [],
   "source": [
    "df.reset_index(drop= True,inplace=True)"
   ]
  },
  {
   "cell_type": "code",
   "execution_count": 49,
   "metadata": {},
   "outputs": [
    {
     "data": {
      "text/html": [
       "<div>\n",
       "<style scoped>\n",
       "    .dataframe tbody tr th:only-of-type {\n",
       "        vertical-align: middle;\n",
       "    }\n",
       "\n",
       "    .dataframe tbody tr th {\n",
       "        vertical-align: top;\n",
       "    }\n",
       "\n",
       "    .dataframe thead th {\n",
       "        text-align: right;\n",
       "    }\n",
       "</style>\n",
       "<table border=\"1\" class=\"dataframe\">\n",
       "  <thead>\n",
       "    <tr style=\"text-align: right;\">\n",
       "      <th></th>\n",
       "      <th>title</th>\n",
       "      <th>text</th>\n",
       "      <th>subject</th>\n",
       "      <th>date</th>\n",
       "      <th>target</th>\n",
       "      <th>title_text</th>\n",
       "    </tr>\n",
       "  </thead>\n",
       "  <tbody>\n",
       "    <tr>\n",
       "      <th>0</th>\n",
       "      <td>BENGHAZI PANEL CALLS HILLARY TO TESTIFY UNDER ...</td>\n",
       "      <td>Does anyone really think Hillary Clinton will ...</td>\n",
       "      <td>politics</td>\n",
       "      <td>2015-03-31</td>\n",
       "      <td>1</td>\n",
       "      <td>BENGHAZI PANEL CALLS HILLARY TO TESTIFY UNDER ...</td>\n",
       "    </tr>\n",
       "    <tr>\n",
       "      <th>1</th>\n",
       "      <td>HILLARY RODHAM NIXON: A CANDIDATE WITH MORE BA...</td>\n",
       "      <td>The irony here isn t lost on us. Hillary is be...</td>\n",
       "      <td>left-news</td>\n",
       "      <td>2015-03-31</td>\n",
       "      <td>1</td>\n",
       "      <td>HILLARY RODHAM NIXON: A CANDIDATE WITH MORE BA...</td>\n",
       "    </tr>\n",
       "    <tr>\n",
       "      <th>2</th>\n",
       "      <td>WATCH DIRTY HARRY REID ON HIS LIE ABOUT ROMNEY...</td>\n",
       "      <td>In case you missed it Sen. Harry Reid (R-NV), ...</td>\n",
       "      <td>left-news</td>\n",
       "      <td>2015-03-31</td>\n",
       "      <td>1</td>\n",
       "      <td>WATCH DIRTY HARRY REID ON HIS LIE ABOUT ROMNEY...</td>\n",
       "    </tr>\n",
       "    <tr>\n",
       "      <th>3</th>\n",
       "      <td>OH NO! GUESS WHO FUNDED THE SHRINE TO TED KENNEDY</td>\n",
       "      <td>Nothing like political cronyism to make your s...</td>\n",
       "      <td>politics</td>\n",
       "      <td>2015-03-31</td>\n",
       "      <td>1</td>\n",
       "      <td>OH NO! GUESS WHO FUNDED THE SHRINE TO TED KENN...</td>\n",
       "    </tr>\n",
       "    <tr>\n",
       "      <th>4</th>\n",
       "      <td>FLASHBACK: KING OBAMA COMMUTES SENTENCES OF 22...</td>\n",
       "      <td>Just making room for Hillary President Obama t...</td>\n",
       "      <td>politics</td>\n",
       "      <td>2015-03-31</td>\n",
       "      <td>1</td>\n",
       "      <td>FLASHBACK: KING OBAMA COMMUTES SENTENCES OF 22...</td>\n",
       "    </tr>\n",
       "    <tr>\n",
       "      <th>...</th>\n",
       "      <td>...</td>\n",
       "      <td>...</td>\n",
       "      <td>...</td>\n",
       "      <td>...</td>\n",
       "      <td>...</td>\n",
       "      <td>...</td>\n",
       "    </tr>\n",
       "    <tr>\n",
       "      <th>39092</th>\n",
       "      <td>JUST IN: BADASS GENERAL JOHN KELLY Shoved Chin...</td>\n",
       "      <td>Just one more reminder of why President Trump ...</td>\n",
       "      <td>politics</td>\n",
       "      <td>2018-02-18</td>\n",
       "      <td>1</td>\n",
       "      <td>JUST IN: BADASS GENERAL JOHN KELLY Shoved Chin...</td>\n",
       "    </tr>\n",
       "    <tr>\n",
       "      <th>39093</th>\n",
       "      <td>IT BEGINS…RINO MEGA-DONOR Threatens Jeb Bush: ...</td>\n",
       "      <td>A longtime Republican Party donor based in Flo...</td>\n",
       "      <td>politics</td>\n",
       "      <td>2018-02-18</td>\n",
       "      <td>1</td>\n",
       "      <td>IT BEGINS…RINO MEGA-DONOR Threatens Jeb Bush: ...</td>\n",
       "    </tr>\n",
       "    <tr>\n",
       "      <th>39094</th>\n",
       "      <td>WATCH: SNOWFLAKES ASKED Communist Party Platfo...</td>\n",
       "      <td>Ami Horowitz is fantastic! Check out this man ...</td>\n",
       "      <td>politics</td>\n",
       "      <td>2018-02-19</td>\n",
       "      <td>1</td>\n",
       "      <td>WATCH: SNOWFLAKES ASKED Communist Party Platfo...</td>\n",
       "    </tr>\n",
       "    <tr>\n",
       "      <th>39095</th>\n",
       "      <td>MSNBC ANCHOR Flabbergasted at What Texas Teach...</td>\n",
       "      <td>If we protect every other government building ...</td>\n",
       "      <td>politics</td>\n",
       "      <td>2018-02-19</td>\n",
       "      <td>1</td>\n",
       "      <td>MSNBC ANCHOR Flabbergasted at What Texas Teach...</td>\n",
       "    </tr>\n",
       "    <tr>\n",
       "      <th>39096</th>\n",
       "      <td>Democrat Senator Warns Mueller Not To Release ...</td>\n",
       "      <td>According to The Hill, Democrat Senator Bob Ca...</td>\n",
       "      <td>politics</td>\n",
       "      <td>2018-02-19</td>\n",
       "      <td>1</td>\n",
       "      <td>Democrat Senator Warns Mueller Not To Release ...</td>\n",
       "    </tr>\n",
       "  </tbody>\n",
       "</table>\n",
       "<p>39097 rows × 6 columns</p>\n",
       "</div>"
      ],
      "text/plain": [
       "                                                   title  \\\n",
       "0      BENGHAZI PANEL CALLS HILLARY TO TESTIFY UNDER ...   \n",
       "1      HILLARY RODHAM NIXON: A CANDIDATE WITH MORE BA...   \n",
       "2      WATCH DIRTY HARRY REID ON HIS LIE ABOUT ROMNEY...   \n",
       "3      OH NO! GUESS WHO FUNDED THE SHRINE TO TED KENNEDY   \n",
       "4      FLASHBACK: KING OBAMA COMMUTES SENTENCES OF 22...   \n",
       "...                                                  ...   \n",
       "39092  JUST IN: BADASS GENERAL JOHN KELLY Shoved Chin...   \n",
       "39093  IT BEGINS…RINO MEGA-DONOR Threatens Jeb Bush: ...   \n",
       "39094  WATCH: SNOWFLAKES ASKED Communist Party Platfo...   \n",
       "39095  MSNBC ANCHOR Flabbergasted at What Texas Teach...   \n",
       "39096  Democrat Senator Warns Mueller Not To Release ...   \n",
       "\n",
       "                                                    text    subject  \\\n",
       "0      Does anyone really think Hillary Clinton will ...   politics   \n",
       "1      The irony here isn t lost on us. Hillary is be...  left-news   \n",
       "2      In case you missed it Sen. Harry Reid (R-NV), ...  left-news   \n",
       "3      Nothing like political cronyism to make your s...   politics   \n",
       "4      Just making room for Hillary President Obama t...   politics   \n",
       "...                                                  ...        ...   \n",
       "39092  Just one more reminder of why President Trump ...   politics   \n",
       "39093  A longtime Republican Party donor based in Flo...   politics   \n",
       "39094  Ami Horowitz is fantastic! Check out this man ...   politics   \n",
       "39095  If we protect every other government building ...   politics   \n",
       "39096  According to The Hill, Democrat Senator Bob Ca...   politics   \n",
       "\n",
       "            date  target                                         title_text  \n",
       "0     2015-03-31       1  BENGHAZI PANEL CALLS HILLARY TO TESTIFY UNDER ...  \n",
       "1     2015-03-31       1  HILLARY RODHAM NIXON: A CANDIDATE WITH MORE BA...  \n",
       "2     2015-03-31       1  WATCH DIRTY HARRY REID ON HIS LIE ABOUT ROMNEY...  \n",
       "3     2015-03-31       1  OH NO! GUESS WHO FUNDED THE SHRINE TO TED KENN...  \n",
       "4     2015-03-31       1  FLASHBACK: KING OBAMA COMMUTES SENTENCES OF 22...  \n",
       "...          ...     ...                                                ...  \n",
       "39092 2018-02-18       1  JUST IN: BADASS GENERAL JOHN KELLY Shoved Chin...  \n",
       "39093 2018-02-18       1  IT BEGINS…RINO MEGA-DONOR Threatens Jeb Bush: ...  \n",
       "39094 2018-02-19       1  WATCH: SNOWFLAKES ASKED Communist Party Platfo...  \n",
       "39095 2018-02-19       1  MSNBC ANCHOR Flabbergasted at What Texas Teach...  \n",
       "39096 2018-02-19       1  Democrat Senator Warns Mueller Not To Release ...  \n",
       "\n",
       "[39097 rows x 6 columns]"
      ]
     },
     "execution_count": 49,
     "metadata": {},
     "output_type": "execute_result"
    }
   ],
   "source": [
    "df"
   ]
  },
  {
   "cell_type": "markdown",
   "metadata": {},
   "source": [
    "#### 8. Preprocess data\n",
    "<br> In this section, I will preprocess the `text` to prepare the data for EDA and modelling. The following will be done through a function:\n",
    "- Remove URL\n",
    "- Remove HTML tags\n",
    "- Remove non-ASCII characters\n",
    "- Remove non-letters\n",
    "- Lower caps\n",
    "- Tokenize \n",
    "- Lemmetize"
   ]
  },
  {
   "cell_type": "code",
   "execution_count": 50,
   "metadata": {},
   "outputs": [],
   "source": [
    "df_copy = df"
   ]
  },
  {
   "cell_type": "code",
   "execution_count": 51,
   "metadata": {},
   "outputs": [],
   "source": [
    "with open('./pickled_df/df.pkl', 'wb') as f:\n",
    "    pickle.dump(df, f)"
   ]
  },
  {
   "cell_type": "code",
   "execution_count": 52,
   "metadata": {},
   "outputs": [
    {
     "data": {
      "text/plain": [
       "'(VIDEO) INNOCENT UNTIL PROVEN GUILTY? AIR FORCE VET LOSES $60,000 OVER CIVIL FORFEITURE WITHOUT BEING CHARGED WITH A CRIME Whatever happened to innocent until proven guilty? The government bullies are playing judge, jury and executioner when they take assets in civil forfeiture. Policing for profit Mark Brewer is a decorated Air Force veteran who fought in the global war on terror. But last month, he became a casualty in the drug war.In late March, the U.S. 8th Circuit Court of Appeals ruled that the federal government could take more than $60,000 of Brewer s cash with civil forfeiture, even though he was never charged with a crime. The decision lets many Midwestern states continue to take property from people who have done nothing wrong.A former military police officer and weapons specialist, Brewer earned several medals during his service in the Air Force, before he was medically discharged in 2008. Brewer said he developed Posttraumatic Stress Disorder after a deployment in Afghanistan.In November 2011, Brewer was driving on Interstate 80 in Nebraska, when Douglas County Sheriff s Deputy Dave Wintle pulled Brewer over for crossing traffic lanes without signaling. During the stop, Wintle performed a criminal background check, which  revealed no major violations. After gaining Brewer s consent, Wintle walked around the car with a canine unit; the dog alerted to the trunk. When he searched the trunk, Wintle found two backpacks that had a  strong odor of raw marijuana  and $63,530 in cash.Brewer said he was travelling to Los Angles to visit his uncle and planned to use the money as a down payment for a house. According to Brewer, he had been saving that cash during his military service and from disability payments. Wintle did not believe his story, so Brewer s cash was seized and his car was towed. At the Douglas County Sheriff s Office, a later search  located disability documents, old paystubs and tax returns in the vehicle, along with two articles entitled  How to Make Wicked Hash  and  How to Make Weed Oil Without Blowing Yourself Up. But deputies never found any drugs in the car. Nor did the government ever charge Brewer with a crime. Deputy Wintle didn t even issue Brewer a traffic citation the basis for the stop.Read more: Forbes'"
      ]
     },
     "execution_count": 52,
     "metadata": {},
     "output_type": "execute_result"
    }
   ],
   "source": [
    "#check element before preprocess \n",
    "df['title_text'][100]"
   ]
  },
  {
   "cell_type": "markdown",
   "metadata": {},
   "source": [
    "Observations:\n",
    "- CAPS\n",
    "- brackets\n",
    "- $ sign\n",
    "- punctuations "
   ]
  },
  {
   "cell_type": "code",
   "execution_count": 53,
   "metadata": {},
   "outputs": [
    {
     "data": {
      "text/plain": [
       "'Fox Host Gives Trump The Most PATHETICALLY Desperate Advice For Winning Second Debate (VIDEO) Donald Trump s first debate against his Democratic rival Hillary Clinton went just as poorly as we thought it would   and conservatives know it. It s never been more clear that Trump doesn t even deserve to be on the same stage as Clinton, and all the holes in his campaign are being exposed effortlessly. Between the fact-checking and not having any real policies or plans in place, Trump is f*cked big time. Luckily, Fox News is coming to the rescue with some (truly awful, somewhat hilarious) advice for the inexperienced man-baby.Fox News host Charles Krauthammer thinks that Trump s greatest chances of succeeding during Sunday s second presidential debate will rely on Trump s amazing ability to lie about everything. Basically, Krauthammer thinks Trump can win if he can  deny it ever happened  and  ignore the fact-checkers.  The Fox host pointed out where Trump had gone wrong during the first debate: I think the most important thing here for Trump is the morning after. He might have lost the debate. It was pretty close. It was not the rout that people say it was. But he really threw it away the morning after when he went after   he went down the rabbit holes on the Miss Universe and all the other stuff. And that s happened to him before. Krauthammer then tried to give Trump some pointers on how to beat a far more experienced, qualified Clinton: I think he can hold his own. He just needs to be   to ignore, as everybody here has said   ignore the bait. He should just dismiss all the quotations that he hears, the way that Pence did. Deny it ever happened and then ignore the fact checkers the next day. It is hilarious that anyone would suggest that Trump can  ignore the bait.  Trump is a loose cannon with the temperament worse than a toddler. Literally every time he gets baited (even by Clinton herself), he cannot resist taking it and making a bigger ass out of himself. Krauthammer is basically begging Trump to keep his ego in check, even though he s proven that he s incapable of doing that. Conservatives need to start accepting that Trump is going to blow this debate just like the first one, no matter how hard they try to guide him.You can watch Krauthammer try to help Trump below:[ad3media campaign= 1075 ]Featured image via Ethan Miller / Getty Images'"
      ]
     },
     "execution_count": 53,
     "metadata": {},
     "output_type": "execute_result"
    }
   ],
   "source": [
    "#check element before preprocess\n",
    "df['title_text'][12345]"
   ]
  },
  {
   "cell_type": "markdown",
   "metadata": {},
   "source": [
    "Observations:\n",
    "- CAPS\n",
    "- brackets\n",
    "- $ sign\n",
    "- punctuations "
   ]
  },
  {
   "cell_type": "code",
   "execution_count": 54,
   "metadata": {},
   "outputs": [
    {
     "data": {
      "text/plain": [
       "title         0\n",
       "text          0\n",
       "subject       0\n",
       "date          0\n",
       "target        0\n",
       "title_text    0\n",
       "dtype: int64"
      ]
     },
     "execution_count": 54,
     "metadata": {},
     "output_type": "execute_result"
    }
   ],
   "source": [
    "#confirm no null value\n",
    "df.isnull().sum()"
   ]
  },
  {
   "cell_type": "code",
   "execution_count": 55,
   "metadata": {},
   "outputs": [],
   "source": [
    "#initialise lemmatizer\n",
    "lemmatizer = WordNetLemmatizer()\n",
    "stpwrds = list(stopwords.words('english'))"
   ]
  },
  {
   "cell_type": "code",
   "execution_count": 56,
   "metadata": {
    "scrolled": true
   },
   "outputs": [
    {
     "data": {
      "text/plain": [
       "['i',\n",
       " 'me',\n",
       " 'my',\n",
       " 'myself',\n",
       " 'we',\n",
       " 'our',\n",
       " 'ours',\n",
       " 'ourselves',\n",
       " 'you',\n",
       " \"you're\",\n",
       " \"you've\",\n",
       " \"you'll\",\n",
       " \"you'd\",\n",
       " 'your',\n",
       " 'yours',\n",
       " 'yourself',\n",
       " 'yourselves',\n",
       " 'he',\n",
       " 'him',\n",
       " 'his',\n",
       " 'himself',\n",
       " 'she',\n",
       " \"she's\",\n",
       " 'her',\n",
       " 'hers',\n",
       " 'herself',\n",
       " 'it',\n",
       " \"it's\",\n",
       " 'its',\n",
       " 'itself',\n",
       " 'they',\n",
       " 'them',\n",
       " 'their',\n",
       " 'theirs',\n",
       " 'themselves',\n",
       " 'what',\n",
       " 'which',\n",
       " 'who',\n",
       " 'whom',\n",
       " 'this',\n",
       " 'that',\n",
       " \"that'll\",\n",
       " 'these',\n",
       " 'those',\n",
       " 'am',\n",
       " 'is',\n",
       " 'are',\n",
       " 'was',\n",
       " 'were',\n",
       " 'be',\n",
       " 'been',\n",
       " 'being',\n",
       " 'have',\n",
       " 'has',\n",
       " 'had',\n",
       " 'having',\n",
       " 'do',\n",
       " 'does',\n",
       " 'did',\n",
       " 'doing',\n",
       " 'a',\n",
       " 'an',\n",
       " 'the',\n",
       " 'and',\n",
       " 'but',\n",
       " 'if',\n",
       " 'or',\n",
       " 'because',\n",
       " 'as',\n",
       " 'until',\n",
       " 'while',\n",
       " 'of',\n",
       " 'at',\n",
       " 'by',\n",
       " 'for',\n",
       " 'with',\n",
       " 'about',\n",
       " 'against',\n",
       " 'between',\n",
       " 'into',\n",
       " 'through',\n",
       " 'during',\n",
       " 'before',\n",
       " 'after',\n",
       " 'above',\n",
       " 'below',\n",
       " 'to',\n",
       " 'from',\n",
       " 'up',\n",
       " 'down',\n",
       " 'in',\n",
       " 'out',\n",
       " 'on',\n",
       " 'off',\n",
       " 'over',\n",
       " 'under',\n",
       " 'again',\n",
       " 'further',\n",
       " 'then',\n",
       " 'once',\n",
       " 'here',\n",
       " 'there',\n",
       " 'when',\n",
       " 'where',\n",
       " 'why',\n",
       " 'how',\n",
       " 'all',\n",
       " 'any',\n",
       " 'both',\n",
       " 'each',\n",
       " 'few',\n",
       " 'more',\n",
       " 'most',\n",
       " 'other',\n",
       " 'some',\n",
       " 'such',\n",
       " 'no',\n",
       " 'nor',\n",
       " 'not',\n",
       " 'only',\n",
       " 'own',\n",
       " 'same',\n",
       " 'so',\n",
       " 'than',\n",
       " 'too',\n",
       " 'very',\n",
       " 's',\n",
       " 't',\n",
       " 'can',\n",
       " 'will',\n",
       " 'just',\n",
       " 'don',\n",
       " \"don't\",\n",
       " 'should',\n",
       " \"should've\",\n",
       " 'now',\n",
       " 'd',\n",
       " 'll',\n",
       " 'm',\n",
       " 'o',\n",
       " 're',\n",
       " 've',\n",
       " 'y',\n",
       " 'ain',\n",
       " 'aren',\n",
       " \"aren't\",\n",
       " 'couldn',\n",
       " \"couldn't\",\n",
       " 'didn',\n",
       " \"didn't\",\n",
       " 'doesn',\n",
       " \"doesn't\",\n",
       " 'hadn',\n",
       " \"hadn't\",\n",
       " 'hasn',\n",
       " \"hasn't\",\n",
       " 'haven',\n",
       " \"haven't\",\n",
       " 'isn',\n",
       " \"isn't\",\n",
       " 'ma',\n",
       " 'mightn',\n",
       " \"mightn't\",\n",
       " 'mustn',\n",
       " \"mustn't\",\n",
       " 'needn',\n",
       " \"needn't\",\n",
       " 'shan',\n",
       " \"shan't\",\n",
       " 'shouldn',\n",
       " \"shouldn't\",\n",
       " 'wasn',\n",
       " \"wasn't\",\n",
       " 'weren',\n",
       " \"weren't\",\n",
       " 'won',\n",
       " \"won't\",\n",
       " 'wouldn',\n",
       " \"wouldn't\"]"
      ]
     },
     "execution_count": 56,
     "metadata": {},
     "output_type": "execute_result"
    }
   ],
   "source": [
    "#print the list of stopwords\n",
    "stpwrds"
   ]
  },
  {
   "cell_type": "code",
   "execution_count": 57,
   "metadata": {},
   "outputs": [],
   "source": [
    "#function for preprocess\n",
    "def preprocess(df, col):\n",
    "    for x in range(len(df)) :\n",
    "        corpus = []\n",
    "        clean_text = df[col][x]\n",
    "        clean_text = re.sub(r'https?://\\S+|www\\.\\S+', '', clean_text) #remove URL\n",
    "        html = re.compile(r\"<.*?>|&([a-z0-9]+|#[0-9]{1,6}|#x[0-9a-f]{1,6});\") #define html tags\n",
    "        clean_text = re.sub(html, \"\", clean_text) #remove html tags\n",
    "        clean_text = re.sub(r'[^\\x00-\\x7f]','', clean_text) #remove non-ascii \n",
    "        clean_text = re.sub(r'[^a-zA-Z\\s]', '', clean_text) #remove non-letters\n",
    "        clean_text = clean_text.lower() #convert all characters to lower caps\n",
    "        clean_text = nltk.word_tokenize(clean_text) #covert string of text into token within list\n",
    "        for y in clean_text :\n",
    "            if y not in stpwrds : #remove stopwords\n",
    "                corpus.append(lemmatizer.lemmatize(y))\n",
    "        clean_text = ' '.join(corpus) #rejoin words into strings\n",
    "        df[col][x] = clean_text  "
   ]
  },
  {
   "cell_type": "code",
   "execution_count": 58,
   "metadata": {},
   "outputs": [
    {
     "name": "stderr",
     "output_type": "stream",
     "text": [
      "C:\\Users\\rohaz\\Anaconda3\\lib\\site-packages\\ipykernel_launcher.py:17: SettingWithCopyWarning: \n",
      "A value is trying to be set on a copy of a slice from a DataFrame\n",
      "\n",
      "See the caveats in the documentation: https://pandas.pydata.org/pandas-docs/stable/user_guide/indexing.html#returning-a-view-versus-a-copy\n"
     ]
    }
   ],
   "source": [
    "preprocess(df,col='title_text')"
   ]
  },
  {
   "cell_type": "code",
   "execution_count": 59,
   "metadata": {},
   "outputs": [
    {
     "data": {
      "text/plain": [
       "'video innocent proven guilty air force vet loses civil forfeiture without charged crime whatever happened innocent proven guilty government bully playing judge jury executioner take asset civil forfeiture policing profit mark brewer decorated air force veteran fought global war terror last month became casualty drug warin late march u th circuit court appeal ruled federal government could take brewer cash civil forfeiture even though never charged crime decision let many midwestern state continue take property people done nothing wronga former military police officer weapon specialist brewer earned several medal service air force medically discharged brewer said developed posttraumatic stress disorder deployment afghanistanin november brewer driving interstate nebraska douglas county sheriff deputy dave wintle pulled brewer crossing traffic lane without signaling stop wintle performed criminal background check revealed major violation gaining brewer consent wintle walked around car canine unit dog alerted trunk searched trunk wintle found two backpack strong odor raw marijuana cashbrewer said travelling los angle visit uncle planned use money payment house according brewer saving cash military service disability payment wintle believe story brewer cash seized car towed douglas county sheriff office later search located disability document old paystubs tax return vehicle along two article entitled make wicked hash make weed oil without blowing deputy never found drug car government ever charge brewer crime deputy wintle even issue brewer traffic citation basis stopread forbes'"
      ]
     },
     "execution_count": 59,
     "metadata": {},
     "output_type": "execute_result"
    }
   ],
   "source": [
    "df['title_text'][100]"
   ]
  },
  {
   "cell_type": "code",
   "execution_count": 60,
   "metadata": {},
   "outputs": [
    {
     "data": {
      "text/plain": [
       "'trump say trade gap make china meeting difficult one washingtonbeijing reuters u president donald trump set tone tense first meeting chinese president xi jinping next week tweeting thursday united state could longer tolerate massive trade deficit job loss white house said trump would host xi next thursday friday maralago retreat florida said trump wife melania would host xi wife peng liyuan dinner next thursday tweet thursday evening trump said highly anticipated meeting leader world two largest economy also expected cover difference north korea china strategic ambition south china sea difficult one longer massive trade deficit job loss wrote adding apparent reference u firm manufacturing china american company must prepared look alternative despite string uschina meeting conversation appeared aimed mending tie strong criticism china trump election campaign u official said republican president pull punch meeting general electric co chief executive officer jeff immelt urged trump thursday maintain country economic relationship china saying united state much gain globalization country loses dont trade relationship china key immelt told aviation panel hosted industry group wing club give trade give best lever president united state negotiating around world think president trump smart give u commerce department said earlier beijing must change trade practice way state enterprise operate china others need realize game continuing unfair trade practice operation nonmarket economy serious consequence said department said launching new review china status nonmarket economy allows united state maintain high antidumping duty cheap chinese import designation widely expected remain place chinese foreign ministry spokesman lu kang stressed need see big picture fostering mutual trade interest market dictate interest two country structured always always told regular briefing side work together make cake mutual interest bigger simply seek fairer distribution trump administration official say need china rein nuclear missile program neighbor ally north korea top agenda along trade u side also expected criticize beijing pursuit expansive claim south china sea white house spokesman sean spicer told news briefing meeting would opportunity trump develop relationship person president xi he spoken phone time big problem everything south china sea trade north korea big issue national economic security need get addressed asked administration vision description china policy like pivot rebalance asia touted former president barack obama spicer said right worried much slogan much progress there lot big thing need accomplish china think work u secretary state rex tillerson agreed beijing month work china north korea stressed trump desire enhance understanding china irritated told repeatedly washington rein north korea nuclear missile program face u sanction chinese business trading north korea u decision base advanced missile defense system south korea beijing also deeply suspicious u intention toward selfruled taiwan china claim trump presidentelect broke decade u policy taking phone call taiwanese president tsai ingwen saying washington stick one china policy trump later agreed phone call xi honor longstanding policy also written since seeking constructive tie'"
      ]
     },
     "execution_count": 60,
     "metadata": {},
     "output_type": "execute_result"
    }
   ],
   "source": [
    "df['title_text'][20000]"
   ]
  },
  {
   "cell_type": "code",
   "execution_count": 61,
   "metadata": {},
   "outputs": [
    {
     "data": {
      "text/plain": [
       "(39097, 6)"
      ]
     },
     "execution_count": 61,
     "metadata": {},
     "output_type": "execute_result"
    }
   ],
   "source": [
    "#check final shape\n",
    "df.shape"
   ]
  },
  {
   "cell_type": "code",
   "execution_count": 62,
   "metadata": {},
   "outputs": [],
   "source": [
    "#pickle preprocessed text data for model\n",
    "\n",
    "with open('./pickled_df/preprocess_df.pkl', 'wb') as f:\n",
    "    pickle.dump(df, f)\n"
   ]
  },
  {
   "cell_type": "code",
   "execution_count": null,
   "metadata": {},
   "outputs": [],
   "source": []
  }
 ],
 "metadata": {
  "kernelspec": {
   "display_name": "Python 3",
   "language": "python",
   "name": "python3"
  },
  "language_info": {
   "codemirror_mode": {
    "name": "ipython",
    "version": 3
   },
   "file_extension": ".py",
   "mimetype": "text/x-python",
   "name": "python",
   "nbconvert_exporter": "python",
   "pygments_lexer": "ipython3",
   "version": "3.7.13"
  }
 },
 "nbformat": 4,
 "nbformat_minor": 4
}
